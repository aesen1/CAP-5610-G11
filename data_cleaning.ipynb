{
 "cells": [
  {
   "cell_type": "code",
   "execution_count": 27,
   "outputs": [],
   "source": [
    "import pandas as pd\n",
    "import numpy as np\n",
    "import statistics as st"
   ],
   "metadata": {
    "collapsed": false
   }
  },
  {
   "cell_type": "code",
   "execution_count": 28,
   "outputs": [
    {
     "name": "stderr",
     "output_type": "stream",
     "text": [
      "C:\\Users\\Bruce\\AppData\\Local\\Temp\\ipykernel_13792\\1271035946.py:1: DtypeWarning: Columns (2,5,6,7,8,10,12,13,15,48,49) have mixed types. Specify dtype option on import or set low_memory=False.\n",
      "  df = pd.read_csv('../EDA_values.csv')\n"
     ]
    },
    {
     "data": {
      "text/plain": "(1048575, 55)"
     },
     "execution_count": 28,
     "metadata": {},
     "output_type": "execute_result"
    }
   ],
   "source": [
    "df = pd.read_csv('../EDA_values.csv')\n",
    "df.shape"
   ],
   "metadata": {
    "collapsed": false
   }
  },
  {
   "cell_type": "code",
   "execution_count": 29,
   "outputs": [
    {
     "data": {
      "text/plain": "property_damage    575655\nminor_injury       335148\nserious_injury     126325\nfatality            11447\nName: severity, dtype: int64"
     },
     "execution_count": 29,
     "metadata": {},
     "output_type": "execute_result"
    }
   ],
   "source": [
    "df['severity'].value_counts()"
   ],
   "metadata": {
    "collapsed": false
   }
  },
  {
   "cell_type": "markdown",
   "source": [
    "# Remove speed-limit=777, 888, 999, Blanks"
   ],
   "metadata": {
    "collapsed": false
   }
  },
  {
   "cell_type": "code",
   "execution_count": 30,
   "outputs": [
    {
     "data": {
      "text/plain": "array([60, 40, 100, 50, 80, 70, 90, 25, 110, 15, 10, 20, 30, 5, 75, 999,\n       888, 777, '50', '100', '80', '90', '60', '40', '70', '30', '20',\n       '110', '10', '100 - 110 km/h', '60 km/h', '0 - 50 km/h', '70 km/h',\n       '80 - 90 km/h'], dtype=object)"
     },
     "execution_count": 30,
     "metadata": {},
     "output_type": "execute_result"
    }
   ],
   "source": [
    "df = df.dropna(subset=['speed_limit'])\n",
    "df['speed_limit'].unique()"
   ],
   "metadata": {
    "collapsed": false
   }
  },
  {
   "cell_type": "markdown",
   "source": [
    "# Change string speeds to numeric"
   ],
   "metadata": {
    "collapsed": false
   }
  },
  {
   "cell_type": "code",
   "execution_count": 31,
   "outputs": [
    {
     "data": {
      "text/plain": "array([ 60,  40, 100,  50,  80,  70,  90,  25, 110,  15,  10,  20,  30,\n         5,  75, 999, 888, 777], dtype=int64)"
     },
     "execution_count": 31,
     "metadata": {},
     "output_type": "execute_result"
    }
   ],
   "source": [
    "df.loc[df['speed_limit'] == '0 - 50 km/h', 'speed_limit'] = 50\n",
    "df.loc[df['speed_limit'] == '60 km/h', 'speed_limit'] = 60\n",
    "df.loc[df['speed_limit'] == '70 km/h', 'speed_limit'] = 70\n",
    "df.loc[df['speed_limit'] == '80 - 90 km/h', 'speed_limit'] = 90\n",
    "df.loc[df['speed_limit'] == '100 - 110 km/h', 'speed_limit'] = 100\n",
    "df['speed_limit']=pd.to_numeric(df.speed_limit).astype(np.int64)\n",
    "df['speed_limit'].unique()"
   ],
   "metadata": {
    "collapsed": false
   }
  },
  {
   "cell_type": "markdown",
   "source": [
    "# Change speed limit to categorical using new speed_labels column\n",
    "### 0-50 km/h, 50-80 km/h, 80-100 km/h, 100+ km/h"
   ],
   "metadata": {
    "collapsed": false
   }
  },
  {
   "cell_type": "code",
   "execution_count": 32,
   "outputs": [
    {
     "data": {
      "text/plain": "['50-80 km/h', '0-50 km/h', '100+ km/h', '80-100 km/h']\nCategories (4, object): ['0-50 km/h' < '50-80 km/h' < '80-100 km/h' < '100+ km/h']"
     },
     "execution_count": 32,
     "metadata": {},
     "output_type": "execute_result"
    }
   ],
   "source": [
    "speed_labels = pd.cut(x=df['speed_limit'], bins=[0, 50, 80, 90, 999],\n",
    "                    labels=['0-50 km/h', '50-80 km/h', '80-100 km/h',\n",
    "                             '100+ km/h'])\n",
    "df.insert(loc = 2, column = 'speed_labels', value = speed_labels)\n",
    "df['speed_labels'].unique()"
   ],
   "metadata": {
    "collapsed": false
   }
  },
  {
   "cell_type": "markdown",
   "source": [
    "# Remove road_position horizontal and vertical, road_sealed, road_wet"
   ],
   "metadata": {
    "collapsed": false
   }
  },
  {
   "cell_type": "code",
   "execution_count": 33,
   "outputs": [
    {
     "data": {
      "text/plain": "Index(['description_id', 'severity', 'speed_labels', 'speed_limit', 'midblock',\n       'intersection', 'weather', 'crash_type', 'lighting', 'traffic_controls',\n       'drugs_alcohol', 'DCA_code', 'comment', 'vehicles_id', 'animals',\n       'car_sedan', 'car_utility', 'car_van', 'car_4x4', 'car_station_wagon',\n       'motor_cycle', 'truck_small', 'truck_large', 'bus', 'taxi', 'bicycle',\n       'scooter', 'pedestrian', 'inanimate', 'train', 'tram', 'vehicle_other',\n       'date_time_id', 'year', 'month', 'day_of_week', 'day_of_month', 'hour',\n       'approximate', 'lat_long', 'latitude', 'longitude', 'country', 'state',\n       'local_government_area', 'statistical_area', 'suburb', 'casualties_id',\n       'casualties', 'fatalities', 'serious_injuries', 'minor_injuries'],\n      dtype='object')"
     },
     "execution_count": 33,
     "metadata": {},
     "output_type": "execute_result"
    }
   ],
   "source": [
    "df.drop(['road_position_horizontal', 'road_position_vertical', 'road_sealed', 'road_wet'], axis=1, inplace=True)\n",
    "df.columns"
   ],
   "metadata": {
    "collapsed": false
   }
  },
  {
   "cell_type": "markdown",
   "source": [
    "# Remove weather=unknown"
   ],
   "metadata": {
    "collapsed": false
   }
  },
  {
   "cell_type": "code",
   "execution_count": 34,
   "outputs": [
    {
     "data": {
      "text/plain": "array(['fine', 'rain', 'smoke_dust', 'high_wind', 'fog', 'snow', 'mist'],\n      dtype=object)"
     },
     "execution_count": 34,
     "metadata": {},
     "output_type": "execute_result"
    }
   ],
   "source": [
    "weather_outliers = ['unknown']\n",
    "df['weather'] = df['weather'].replace(weather_outliers, st.mode(df[\"weather\"]))\n",
    "df['weather'].unique()"
   ],
   "metadata": {
    "collapsed": false
   }
  },
  {
   "cell_type": "code",
   "execution_count": 35,
   "outputs": [
    {
     "data": {
      "text/plain": "property_damage    575647\nminor_injury       335147\nserious_injury     126324\nfatality            11446\nName: severity, dtype: int64"
     },
     "execution_count": 35,
     "metadata": {},
     "output_type": "execute_result"
    }
   ],
   "source": [
    "df['severity'].value_counts()"
   ],
   "metadata": {
    "collapsed": false
   }
  },
  {
   "cell_type": "markdown",
   "source": [
    "# Remove lighting=unknown, other"
   ],
   "metadata": {
    "collapsed": false
   }
  },
  {
   "cell_type": "code",
   "execution_count": 36,
   "outputs": [
    {
     "data": {
      "text/plain": "array(['daylight', 'darkness_not_lit', 'darkness_lit', 'dawn_dusk'],\n      dtype=object)"
     },
     "execution_count": 36,
     "metadata": {},
     "output_type": "execute_result"
    }
   ],
   "source": [
    "lighting_outliers = ['unknown', 'other']\n",
    "df = df[df.lighting.isin(lighting_outliers) == False]\n",
    "df['lighting'].unique()"
   ],
   "metadata": {
    "collapsed": false
   }
  },
  {
   "cell_type": "markdown",
   "source": [
    "# Remove traffic_controls=other"
   ],
   "metadata": {
    "collapsed": false
   }
  },
  {
   "cell_type": "code",
   "execution_count": 37,
   "outputs": [
    {
     "data": {
      "text/plain": "none                   751919\ngiveway_sign           140078\ntraffic_lights         100733\nstop_sign               48168\npedestrian_crossing       489\nschool_crossing           339\nrailway_crossing          331\nmanual_control            255\nother                      43\nName: traffic_controls, dtype: int64"
     },
     "execution_count": 37,
     "metadata": {},
     "output_type": "execute_result"
    }
   ],
   "source": [
    "traffic_outliers = ['other']\n",
    "df = df[df.lighting.isin(traffic_outliers) == False]\n",
    "df.traffic_controls.fillna('none', inplace=True)\n",
    "df['traffic_controls'].value_counts()"
   ],
   "metadata": {
    "collapsed": false
   }
  },
  {
   "cell_type": "code",
   "execution_count": 38,
   "outputs": [
    {
     "data": {
      "text/plain": "property_damage    574598\nminor_injury       331137\nserious_injury     125225\nfatality            11395\nName: severity, dtype: int64"
     },
     "execution_count": 38,
     "metadata": {},
     "output_type": "execute_result"
    }
   ],
   "source": [
    "df['severity'].value_counts()"
   ],
   "metadata": {
    "collapsed": false
   }
  },
  {
   "cell_type": "markdown",
   "source": [
    "# Drug_alcohol change blank to 0 and 'Y' to 1"
   ],
   "metadata": {
    "collapsed": false
   }
  },
  {
   "cell_type": "code",
   "execution_count": 39,
   "outputs": [
    {
     "data": {
      "text/plain": "array([False,  True])"
     },
     "execution_count": 39,
     "metadata": {},
     "output_type": "execute_result"
    }
   ],
   "source": [
    "df['drugs_alcohol'] = df['drugs_alcohol'].fillna(False)\n",
    "df.loc[df['drugs_alcohol'] == 'Y', 'drugs_alcohol'] = True\n",
    "df['drugs_alcohol'] = df['drugs_alcohol'].astype(bool)\n",
    "df['drugs_alcohol'].unique()"
   ],
   "metadata": {
    "collapsed": false
   }
  },
  {
   "cell_type": "markdown",
   "source": [
    "# DCA code important, unsure how to continue\n",
    "### Removing column for now"
   ],
   "metadata": {
    "collapsed": false
   }
  },
  {
   "cell_type": "code",
   "execution_count": 40,
   "outputs": [
    {
     "data": {
      "text/plain": "Index(['description_id', 'severity', 'speed_labels', 'speed_limit', 'midblock',\n       'intersection', 'weather', 'crash_type', 'lighting', 'traffic_controls',\n       'drugs_alcohol', 'comment', 'vehicles_id', 'animals', 'car_sedan',\n       'car_utility', 'car_van', 'car_4x4', 'car_station_wagon', 'motor_cycle',\n       'truck_small', 'truck_large', 'bus', 'taxi', 'bicycle', 'scooter',\n       'pedestrian', 'inanimate', 'train', 'tram', 'vehicle_other',\n       'date_time_id', 'year', 'month', 'day_of_week', 'day_of_month', 'hour',\n       'approximate', 'lat_long', 'latitude', 'longitude', 'country', 'state',\n       'local_government_area', 'statistical_area', 'suburb', 'casualties_id',\n       'casualties', 'fatalities', 'serious_injuries', 'minor_injuries'],\n      dtype='object')"
     },
     "execution_count": 40,
     "metadata": {},
     "output_type": "execute_result"
    }
   ],
   "source": [
    "df.drop(['DCA_code'], axis=1, inplace=True)\n",
    "df.columns"
   ],
   "metadata": {
    "collapsed": false
   }
  },
  {
   "cell_type": "markdown",
   "source": [
    "# Remove comments, vehicle_id, vehicle_other"
   ],
   "metadata": {
    "collapsed": false
   }
  },
  {
   "cell_type": "code",
   "execution_count": 41,
   "outputs": [
    {
     "data": {
      "text/plain": "Index(['description_id', 'severity', 'speed_labels', 'speed_limit', 'midblock',\n       'intersection', 'weather', 'crash_type', 'lighting', 'traffic_controls',\n       'drugs_alcohol', 'animals', 'car_sedan', 'car_utility', 'car_van',\n       'car_4x4', 'car_station_wagon', 'motor_cycle', 'truck_small',\n       'truck_large', 'bus', 'taxi', 'bicycle', 'scooter', 'pedestrian',\n       'inanimate', 'train', 'tram', 'date_time_id', 'year', 'month',\n       'day_of_week', 'day_of_month', 'hour', 'approximate', 'lat_long',\n       'latitude', 'longitude', 'country', 'state', 'local_government_area',\n       'statistical_area', 'suburb', 'casualties_id', 'casualties',\n       'fatalities', 'serious_injuries', 'minor_injuries'],\n      dtype='object')"
     },
     "execution_count": 41,
     "metadata": {},
     "output_type": "execute_result"
    }
   ],
   "source": [
    "df.drop(['comment', 'vehicles_id', 'vehicle_other'], axis=1, inplace=True)\n",
    "df.columns"
   ],
   "metadata": {
    "collapsed": false
   }
  },
  {
   "cell_type": "markdown",
   "source": [
    "# Categorize severity"
   ],
   "metadata": {
    "collapsed": false
   }
  },
  {
   "cell_type": "code",
   "execution_count": 42,
   "outputs": [
    {
     "data": {
      "text/plain": "['property_damage', 'minor_injury', 'serious_injury', 'fatality']\nCategories (4, object): ['fatality', 'minor_injury', 'property_damage', 'serious_injury']"
     },
     "execution_count": 42,
     "metadata": {},
     "output_type": "execute_result"
    }
   ],
   "source": [
    "df['severity'] = df['severity'] = pd.Categorical(df.severity)\n",
    "df['severity'].unique()"
   ],
   "metadata": {
    "collapsed": false
   }
  },
  {
   "cell_type": "markdown",
   "source": [
    "# Categorize weather, lighting, and traffic controls"
   ],
   "metadata": {
    "collapsed": false
   }
  },
  {
   "cell_type": "code",
   "execution_count": 43,
   "outputs": [
    {
     "name": "stdout",
     "output_type": "stream",
     "text": [
      "['fine', 'rain', 'smoke_dust', 'high_wind', 'fog', 'snow', 'mist']\n",
      "Categories (7, object): ['fine', 'fog', 'high_wind', 'mist', 'rain', 'smoke_dust', 'snow']\n",
      "['daylight', 'darkness_not_lit', 'darkness_lit', 'dawn_dusk']\n",
      "Categories (4, object): ['darkness_lit', 'darkness_not_lit', 'dawn_dusk', 'daylight']\n",
      "['none', 'stop_sign', 'traffic_lights', 'giveway_sign', 'railway_crossing', 'other', 'manual_control', 'school_crossing', 'pedestrian_crossing']\n",
      "Categories (9, object): ['giveway_sign', 'manual_control', 'none', 'other', ..., 'railway_crossing', 'school_crossing', 'stop_sign', 'traffic_lights']\n"
     ]
    }
   ],
   "source": [
    "df['weather'] = df['weather'] = pd.Categorical(df.weather)\n",
    "df['lighting'] = df['lighting'] = pd.Categorical(df.lighting)\n",
    "df['traffic_controls'] = df['traffic_controls'] = pd.Categorical(df.traffic_controls)\n",
    "print(df['weather'].unique())\n",
    "print(df['lighting'].unique())\n",
    "print(df['traffic_controls'].unique())"
   ],
   "metadata": {
    "collapsed": false
   }
  },
  {
   "cell_type": "markdown",
   "source": [
    "# Compare severity vs datetime columns and decide what to do with those columns\n",
    "### Unsure of severity correlation with date time so those columns were removed for now"
   ],
   "metadata": {
    "collapsed": false
   }
  },
  {
   "cell_type": "code",
   "execution_count": 44,
   "outputs": [
    {
     "data": {
      "text/plain": "Index(['description_id', 'severity', 'speed_labels', 'speed_limit', 'midblock',\n       'intersection', 'weather', 'crash_type', 'lighting', 'traffic_controls',\n       'drugs_alcohol', 'animals', 'car_sedan', 'car_utility', 'car_van',\n       'car_4x4', 'car_station_wagon', 'motor_cycle', 'truck_small',\n       'truck_large', 'bus', 'taxi', 'bicycle', 'scooter', 'pedestrian',\n       'inanimate', 'train', 'tram', 'date_time_id', 'approximate', 'lat_long',\n       'latitude', 'longitude', 'country', 'state', 'local_government_area',\n       'statistical_area', 'suburb', 'casualties_id', 'casualties',\n       'fatalities', 'serious_injuries', 'minor_injuries'],\n      dtype='object')"
     },
     "execution_count": 44,
     "metadata": {},
     "output_type": "execute_result"
    }
   ],
   "source": [
    "df.drop(['year', 'month','day_of_week', 'day_of_month', 'hour'], axis=1, inplace=True)\n",
    "df.columns"
   ],
   "metadata": {
    "collapsed": false
   }
  },
  {
   "cell_type": "markdown",
   "source": [
    "# Remove description_id, date_time_id, crash_type, approximate to minor_injuries columns"
   ],
   "metadata": {
    "collapsed": false
   }
  },
  {
   "cell_type": "code",
   "execution_count": 45,
   "outputs": [
    {
     "data": {
      "text/plain": "Index(['severity', 'speed_labels', 'speed_limit', 'midblock', 'intersection',\n       'weather', 'lighting', 'traffic_controls', 'drugs_alcohol', 'animals',\n       'car_sedan', 'car_utility', 'car_van', 'car_4x4', 'car_station_wagon',\n       'motor_cycle', 'truck_small', 'truck_large', 'bus', 'taxi', 'bicycle',\n       'scooter', 'pedestrian', 'inanimate', 'train', 'tram'],\n      dtype='object')"
     },
     "execution_count": 45,
     "metadata": {},
     "output_type": "execute_result"
    }
   ],
   "source": [
    "df.drop(['description_id', 'date_time_id', 'crash_type','approximate', 'lat_long',\n",
    "         'latitude', 'longitude', 'country', 'state', 'local_government_area',\n",
    "         'statistical_area', 'suburb', 'casualties_id', 'casualties',\n",
    "         'fatalities', 'serious_injuries', 'minor_injuries'], axis=1, inplace=True)\n",
    "df.columns"
   ],
   "metadata": {
    "collapsed": false
   }
  },
  {
   "cell_type": "markdown",
   "source": [
    "# Final shape and data types"
   ],
   "metadata": {
    "collapsed": false
   }
  },
  {
   "cell_type": "code",
   "execution_count": 46,
   "outputs": [
    {
     "name": "stdout",
     "output_type": "stream",
     "text": [
      "(1042355, 26)\n",
      "severity             category\n",
      "speed_labels         category\n",
      "speed_limit             int64\n",
      "midblock                 bool\n",
      "intersection             bool\n",
      "weather              category\n",
      "lighting             category\n",
      "traffic_controls     category\n",
      "drugs_alcohol            bool\n",
      "animals                 int64\n",
      "car_sedan               int64\n",
      "car_utility             int64\n",
      "car_van                 int64\n",
      "car_4x4                 int64\n",
      "car_station_wagon       int64\n",
      "motor_cycle             int64\n",
      "truck_small             int64\n",
      "truck_large             int64\n",
      "bus                     int64\n",
      "taxi                    int64\n",
      "bicycle                 int64\n",
      "scooter                 int64\n",
      "pedestrian              int64\n",
      "inanimate               int64\n",
      "train                   int64\n",
      "tram                    int64\n",
      "dtype: object\n"
     ]
    }
   ],
   "source": [
    "print(df.shape)\n",
    "print(df.dtypes)"
   ],
   "metadata": {
    "collapsed": false
   }
  },
  {
   "cell_type": "code",
   "execution_count": 47,
   "outputs": [
    {
     "data": {
      "text/plain": "property_damage    574598\nminor_injury       331137\nserious_injury     125225\nfatality            11395\nName: severity, dtype: int64"
     },
     "execution_count": 47,
     "metadata": {},
     "output_type": "execute_result"
    }
   ],
   "source": [
    "df['severity'].value_counts()"
   ],
   "metadata": {
    "collapsed": false
   }
  },
  {
   "cell_type": "code",
   "execution_count": 48,
   "outputs": [
    {
     "data": {
      "text/plain": "severity             0\nspeed_labels         0\nspeed_limit          0\nmidblock             0\nintersection         0\nweather              0\nlighting             0\ntraffic_controls     0\ndrugs_alcohol        0\nanimals              0\ncar_sedan            0\ncar_utility          0\ncar_van              0\ncar_4x4              0\ncar_station_wagon    0\nmotor_cycle          0\ntruck_small          0\ntruck_large          0\nbus                  0\ntaxi                 0\nbicycle              0\nscooter              0\npedestrian           0\ninanimate            0\ntrain                0\ntram                 0\ndtype: int64"
     },
     "execution_count": 48,
     "metadata": {},
     "output_type": "execute_result"
    }
   ],
   "source": [
    "df.isna().sum()"
   ],
   "metadata": {
    "collapsed": false
   }
  },
  {
   "cell_type": "code",
   "execution_count": 49,
   "outputs": [
    {
     "data": {
      "text/plain": "severity             category\nspeed_labels         category\nspeed_limit             int64\nmidblock                 bool\nintersection             bool\nweather              category\nlighting             category\ntraffic_controls     category\ndrugs_alcohol            bool\nanimals                 int64\ncar_sedan               int64\ncar_utility             int64\ncar_van                 int64\ncar_4x4                 int64\ncar_station_wagon       int64\nmotor_cycle             int64\ntruck_small             int64\ntruck_large             int64\nbus                     int64\ntaxi                    int64\nbicycle                 int64\nscooter                 int64\npedestrian              int64\ninanimate               int64\ntrain                   int64\ntram                    int64\ndtype: object"
     },
     "execution_count": 49,
     "metadata": {},
     "output_type": "execute_result"
    }
   ],
   "source": [
    "df.dtypes"
   ],
   "metadata": {
    "collapsed": false
   }
  },
  {
   "cell_type": "code",
   "execution_count": 50,
   "outputs": [],
   "source": [
    "# drop speed limit in favor of speed_labels\n",
    "df.drop(['speed_limit'], axis=1, inplace=True)"
   ],
   "metadata": {
    "collapsed": false
   }
  },
  {
   "cell_type": "markdown",
   "source": [
    "# Convert categories and bool to numeric"
   ],
   "metadata": {
    "collapsed": false
   }
  },
  {
   "cell_type": "code",
   "execution_count": 51,
   "outputs": [],
   "source": [
    "from sklearn.preprocessing import LabelEncoder, StandardScaler\n",
    "\n",
    "df['drugs_alcohol'] = df['drugs_alcohol'].replace(False, 0)\n",
    "df['drugs_alcohol'] = df['drugs_alcohol'].replace(True, 1)\n",
    "\n",
    "df['midblock'] = df['midblock'].replace(False, 0)\n",
    "df['midblock'] = df['midblock'].replace(True, 1)\n",
    "\n",
    "df['intersection'] = df['intersection'].replace(False, 0)\n",
    "df['intersection'] = df['intersection'].replace(True, 1)\n",
    "\n",
    "categories = ['severity', 'speed_labels', 'weather', 'lighting', 'traffic_controls', ]\n",
    "label_encoder = LabelEncoder()\n",
    "for category in categories:\n",
    "    df[category] = label_encoder.fit_transform(df[category])\n",
    "\n",
    "numeric_columns = ['animals', 'car_sedan', 'car_utility', 'car_van', 'car_4x4', 'car_station_wagon',\n",
    "                   'motor_cycle', 'truck_small', 'truck_large', 'bus', 'taxi', 'bicycle',\n",
    "                   'scooter', 'pedestrian', 'inanimate', 'train', 'tram' ]\n",
    "sc = StandardScaler()\n",
    "df[numeric_columns] = sc.fit_transform(df[numeric_columns])"
   ],
   "metadata": {
    "collapsed": false
   }
  },
  {
   "cell_type": "code",
   "execution_count": 52,
   "outputs": [
    {
     "data": {
      "text/plain": "severity               int32\nspeed_labels           int32\nmidblock               int64\nintersection           int64\nweather                int32\nlighting               int32\ntraffic_controls       int32\ndrugs_alcohol          int64\nanimals              float64\ncar_sedan            float64\ncar_utility          float64\ncar_van              float64\ncar_4x4              float64\ncar_station_wagon    float64\nmotor_cycle          float64\ntruck_small          float64\ntruck_large          float64\nbus                  float64\ntaxi                 float64\nbicycle              float64\nscooter              float64\npedestrian           float64\ninanimate            float64\ntrain                float64\ntram                 float64\ndtype: object"
     },
     "execution_count": 52,
     "metadata": {},
     "output_type": "execute_result"
    }
   ],
   "source": [
    "df.dtypes"
   ],
   "metadata": {
    "collapsed": false
   }
  },
  {
   "cell_type": "markdown",
   "source": [
    "# Export to CSV"
   ],
   "metadata": {
    "collapsed": false
   }
  },
  {
   "cell_type": "code",
   "execution_count": 53,
   "outputs": [],
   "source": [
    "df.to_csv('./Data_Cleaning_output.csv')"
   ],
   "metadata": {
    "collapsed": false
   }
  }
 ],
 "metadata": {
  "kernelspec": {
   "display_name": "Python 3",
   "language": "python",
   "name": "python3"
  },
  "language_info": {
   "codemirror_mode": {
    "name": "ipython",
    "version": 2
   },
   "file_extension": ".py",
   "mimetype": "text/x-python",
   "name": "python",
   "nbconvert_exporter": "python",
   "pygments_lexer": "ipython2",
   "version": "2.7.6"
  }
 },
 "nbformat": 4,
 "nbformat_minor": 0
}
