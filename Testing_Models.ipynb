{
  "nbformat": 4,
  "nbformat_minor": 0,
  "metadata": {
    "colab": {
      "provenance": [],
      "collapsed_sections": []
    },
    "kernelspec": {
      "name": "python3",
      "display_name": "Python 3"
    },
    "language_info": {
      "name": "python"
    }
  },
  "cells": [
    {
      "cell_type": "code",
      "execution_count": 182,
      "metadata": {
        "id": "VskAjj7vOkLO"
      },
      "outputs": [],
      "source": [
        "import pandas as pd\n",
        "import numpy as np\n",
        "import matplotlib as mpl\n",
        "import matplotlib.pyplot as plt\n",
        "%matplotlib inline\n",
        "import seaborn as sns\n",
        "from sklearn.preprocessing import StandardScaler\n",
        "from sklearn.linear_model import LogisticRegression\n",
        "from sklearn.model_selection import RepeatedStratifiedKFold\n",
        "from sklearn.model_selection import cross_val_score\n",
        "from sklearn.cluster import KMeans\n",
        "from tensorflow.keras.models import Sequential\n",
        "from tensorflow.keras.layers import Dense\n",
        "from tensorflow.keras.wrappers.scikit_learn import KerasClassifier\n",
        "from sklearn.pipeline import Pipeline\n",
        "from sklearn.decomposition import PCA\n",
        "from sklearn.metrics import roc_curve\n",
        "from sklearn.metrics import auc\n",
        "from sklearn.metrics import roc_auc_score\n",
        "from sklearn.metrics import classification_report\n",
        "from sklearn.metrics import confusion_matrix\n",
        "from sklearn.model_selection import GridSearchCV\n",
        "from imblearn.over_sampling import SMOTE\n",
        "from sklearn.model_selection import train_test_split\n",
        "from sklearn.ensemble import RandomForestClassifier\n",
        "from sklearn.metrics import accuracy_score\n",
        "from tensorflow.keras import regularizers\n",
        "from keras import backend as K\n",
        "from sklearn.ensemble import AdaBoostClassifier\n",
        "from sklearn.tree import DecisionTreeClassifier"
      ]
    },
    {
      "cell_type": "code",
      "source": [
        "data = pd.read_csv(\"/content/drive/MyDrive/Colab Notebooks/Models/post_EDA.csv\")\n",
        "data.shape"
      ],
      "metadata": {
        "colab": {
          "base_uri": "https://localhost:8080/"
        },
        "id": "JBgPeKQEYzjR",
        "outputId": "4b5d1443-7e26-4aa2-ac93-2ade82f03ab4"
      },
      "execution_count": 2,
      "outputs": [
        {
          "output_type": "execute_result",
          "data": {
            "text/plain": [
              "(192021, 16)"
            ]
          },
          "metadata": {},
          "execution_count": 2
        }
      ]
    },
    {
      "cell_type": "code",
      "source": [
        "null = data.isnull().sum()\n",
        "null_sorted = null.sort_values(ascending = False)\n",
        "print(null_sorted)\n",
        "data = data.dropna()"
      ],
      "metadata": {
        "colab": {
          "base_uri": "https://localhost:8080/"
        },
        "id": "4cyZCHjId2SZ",
        "outputId": "ba3ed369-d2f7-47c9-9ad5-f47e7aa38822"
      },
      "execution_count": 35,
      "outputs": [
        {
          "output_type": "stream",
          "name": "stdout",
          "text": [
            "time_of_day       1\n",
            "season            1\n",
            "severity          0\n",
            "speed_limit       0\n",
            "intersection      0\n",
            "weather           0\n",
            "lighting          0\n",
            "month             0\n",
            "day_of_week       0\n",
            "hour              0\n",
            "pedestrian        0\n",
            "vehicle_other     0\n",
            "car               0\n",
            "large_vehicles    0\n",
            "rail_vehicle      0\n",
            "two_wheeled       0\n",
            "dtype: int64\n"
          ]
        }
      ]
    },
    {
      "cell_type": "code",
      "source": [
        "X  = data.drop(columns = \"severity\")\n",
        "Y = data['severity'] - 1"
      ],
      "metadata": {
        "id": "0Oq7hlCWZJUT"
      },
      "execution_count": 36,
      "outputs": []
    },
    {
      "cell_type": "code",
      "source": [
        "X_train, X_test, y_train, y_test = train_test_split(X, Y, random_state = 123, test_size = .3)"
      ],
      "metadata": {
        "id": "q7WD_Q4HZawi"
      },
      "execution_count": 37,
      "outputs": []
    },
    {
      "cell_type": "code",
      "source": [
        "log_model = LogisticRegression()"
      ],
      "metadata": {
        "id": "Sb3o2pvRaIjp"
      },
      "execution_count": 38,
      "outputs": []
    },
    {
      "cell_type": "code",
      "source": [
        "scaler = StandardScaler()"
      ],
      "metadata": {
        "id": "sOQBJRT7cQUl"
      },
      "execution_count": 39,
      "outputs": []
    },
    {
      "cell_type": "code",
      "source": [
        "X_train_scaled = pd.DataFrame(scaler.fit_transform(X_train), columns = X_train.columns)"
      ],
      "metadata": {
        "id": "nU0Yf8lKaPpO"
      },
      "execution_count": 40,
      "outputs": []
    },
    {
      "cell_type": "code",
      "source": [
        "X_test_scaled = pd.DataFrame(scaler.fit_transform(X_test), columns = X_test.columns)"
      ],
      "metadata": {
        "id": "RmBFUR4KcVre"
      },
      "execution_count": 41,
      "outputs": []
    },
    {
      "cell_type": "code",
      "source": [
        "X_train_final, y_train_final = SMOTE().fit_resample(X_train_scaled, y_train)\n",
        "np.bincount(y_train_final)"
      ],
      "metadata": {
        "colab": {
          "base_uri": "https://localhost:8080/"
        },
        "id": "TO3fcx0Qcbku",
        "outputId": "85ec84aa-4957-409f-c4b0-b71a2b10fec1"
      },
      "execution_count": 42,
      "outputs": [
        {
          "output_type": "execute_result",
          "data": {
            "text/plain": [
              "array([87869, 87869, 87869])"
            ]
          },
          "metadata": {},
          "execution_count": 42
        }
      ]
    },
    {
      "cell_type": "markdown",
      "source": [
        "# **Log Reg**"
      ],
      "metadata": {
        "id": "dxxkw4OGc-hD"
      }
    },
    {
      "cell_type": "code",
      "source": [
        "steps =  [('pca', PCA(n_components=3)), ('m', LogisticRegression())]\n",
        "model = Pipeline(steps = steps)"
      ],
      "metadata": {
        "id": "M7uttYcLc9an"
      },
      "execution_count": 132,
      "outputs": []
    },
    {
      "cell_type": "code",
      "source": [
        "model.fit(X_train_scaled, y_train)"
      ],
      "metadata": {
        "colab": {
          "base_uri": "https://localhost:8080/"
        },
        "id": "JW6nn6QAdHAC",
        "outputId": "0b5172f9-9aa8-4f95-feba-184c7a068c3e"
      },
      "execution_count": 133,
      "outputs": [
        {
          "output_type": "execute_result",
          "data": {
            "text/plain": [
              "Pipeline(steps=[('pca', PCA(n_components=3)), ('m', LogisticRegression())])"
            ]
          },
          "metadata": {},
          "execution_count": 133
        }
      ]
    },
    {
      "cell_type": "code",
      "source": [
        "y_pred_log = model.predict(X_test_scaled)"
      ],
      "metadata": {
        "id": "sh5h0m48dxuN"
      },
      "execution_count": 134,
      "outputs": []
    },
    {
      "cell_type": "code",
      "source": [
        "print(classification_report(y_test, y_pred_log))"
      ],
      "metadata": {
        "colab": {
          "base_uri": "https://localhost:8080/"
        },
        "id": "vAWajZQMeUIR",
        "outputId": "7f1cb7ef-8029-4685-8322-bd7d360375fe"
      },
      "execution_count": 135,
      "outputs": [
        {
          "output_type": "stream",
          "name": "stdout",
          "text": [
            "              precision    recall  f1-score   support\n",
            "\n",
            "           0       0.67      0.95      0.78     37736\n",
            "           1       0.44      0.09      0.15     18796\n",
            "           2       0.00      0.00      0.00      1074\n",
            "\n",
            "    accuracy                           0.65     57606\n",
            "   macro avg       0.37      0.35      0.31     57606\n",
            "weighted avg       0.58      0.65      0.56     57606\n",
            "\n"
          ]
        },
        {
          "output_type": "stream",
          "name": "stderr",
          "text": [
            "/usr/local/lib/python3.7/dist-packages/sklearn/metrics/_classification.py:1318: UndefinedMetricWarning: Precision and F-score are ill-defined and being set to 0.0 in labels with no predicted samples. Use `zero_division` parameter to control this behavior.\n",
            "  _warn_prf(average, modifier, msg_start, len(result))\n",
            "/usr/local/lib/python3.7/dist-packages/sklearn/metrics/_classification.py:1318: UndefinedMetricWarning: Precision and F-score are ill-defined and being set to 0.0 in labels with no predicted samples. Use `zero_division` parameter to control this behavior.\n",
            "  _warn_prf(average, modifier, msg_start, len(result))\n",
            "/usr/local/lib/python3.7/dist-packages/sklearn/metrics/_classification.py:1318: UndefinedMetricWarning: Precision and F-score are ill-defined and being set to 0.0 in labels with no predicted samples. Use `zero_division` parameter to control this behavior.\n",
            "  _warn_prf(average, modifier, msg_start, len(result))\n"
          ]
        }
      ]
    },
    {
      "cell_type": "code",
      "source": [
        "def create_model(neurons= 5, optimizer = 'Adam', activation = 'sigmoid', layer_count = 2, learning_rate = .003):\n",
        "  model = Sequential()    \n",
        "  model.add(Dense(neurons, activation = activation, input_shape = (15, ), kernel_regularizer=regularizers.L1L2(l1=1e-5, l2=1e-4), bias_regularizer=regularizers.L2(1e-4), activity_regularizer=regularizers.L2(1e-5)))\n",
        "  for i in range(layer_count - 1):    \n",
        "    model.add(Dense(neurons, activation=activation, kernel_regularizer=regularizers.L1L2(l1=1e-5, l2=1e-4), bias_regularizer=regularizers.L2(1e-4), activity_regularizer=regularizers.L2(1e-5)))\n",
        "  model.add(Dense(1, activation='hard_sigmoid'))  \n",
        "  model.compile(loss='categorical_crossentropy', optimizer= optimizer, metrics=['categorical_accuracy'])\n",
        "  K.set_value(model.optimizer.learning_rate, learning_rate)\n",
        "  return model"
      ],
      "metadata": {
        "id": "3kJWbhuCfiFl"
      },
      "execution_count": 174,
      "outputs": []
    },
    {
      "cell_type": "code",
      "source": [
        "nn = create_model()\n",
        "nn.fit(X_train_scaled, y_train, epochs = 200, verbose = 0)"
      ],
      "metadata": {
        "colab": {
          "base_uri": "https://localhost:8080/"
        },
        "id": "ikHk-mAofuxN",
        "outputId": "09d4e8d1-4545-4786-bd8d-d4988892342a"
      },
      "execution_count": 175,
      "outputs": [
        {
          "output_type": "execute_result",
          "data": {
            "text/plain": [
              "<keras.callbacks.History at 0x7f7fafac0590>"
            ]
          },
          "metadata": {},
          "execution_count": 175
        }
      ]
    },
    {
      "cell_type": "code",
      "source": [
        "y_pred_net = nn.predict(X_test_scaled)"
      ],
      "metadata": {
        "id": "ffw4AarBgtbU"
      },
      "execution_count": 176,
      "outputs": []
    },
    {
      "cell_type": "code",
      "source": [
        "y_pred_net = np.argmax(y_pred_net, axis=-1)"
      ],
      "metadata": {
        "id": "YTHzjTsBi04Z"
      },
      "execution_count": 178,
      "outputs": []
    },
    {
      "cell_type": "code",
      "source": [
        "print(classification_report(y_test, y_pred_net))"
      ],
      "metadata": {
        "colab": {
          "base_uri": "https://localhost:8080/"
        },
        "id": "xdDpKeBGgxeQ",
        "outputId": "29ad4bb0-6b8a-498c-818a-7f1abf89db42"
      },
      "execution_count": 179,
      "outputs": [
        {
          "output_type": "stream",
          "name": "stdout",
          "text": [
            "              precision    recall  f1-score   support\n",
            "\n",
            "           0       0.66      1.00      0.79     37736\n",
            "           1       0.00      0.00      0.00     18796\n",
            "           2       0.00      0.00      0.00      1074\n",
            "\n",
            "    accuracy                           0.66     57606\n",
            "   macro avg       0.22      0.33      0.26     57606\n",
            "weighted avg       0.43      0.66      0.52     57606\n",
            "\n"
          ]
        },
        {
          "output_type": "stream",
          "name": "stderr",
          "text": [
            "/usr/local/lib/python3.7/dist-packages/sklearn/metrics/_classification.py:1318: UndefinedMetricWarning: Precision and F-score are ill-defined and being set to 0.0 in labels with no predicted samples. Use `zero_division` parameter to control this behavior.\n",
            "  _warn_prf(average, modifier, msg_start, len(result))\n",
            "/usr/local/lib/python3.7/dist-packages/sklearn/metrics/_classification.py:1318: UndefinedMetricWarning: Precision and F-score are ill-defined and being set to 0.0 in labels with no predicted samples. Use `zero_division` parameter to control this behavior.\n",
            "  _warn_prf(average, modifier, msg_start, len(result))\n",
            "/usr/local/lib/python3.7/dist-packages/sklearn/metrics/_classification.py:1318: UndefinedMetricWarning: Precision and F-score are ill-defined and being set to 0.0 in labels with no predicted samples. Use `zero_division` parameter to control this behavior.\n",
            "  _warn_prf(average, modifier, msg_start, len(result))\n"
          ]
        }
      ]
    },
    {
      "cell_type": "code",
      "source": [
        "rf = RandomForestClassifier()"
      ],
      "metadata": {
        "id": "NVAXCS3XjhPg"
      },
      "execution_count": 147,
      "outputs": []
    },
    {
      "cell_type": "code",
      "source": [
        "rf.fit(X_train_scaled, y_train)"
      ],
      "metadata": {
        "colab": {
          "base_uri": "https://localhost:8080/"
        },
        "id": "0KD1B4OpjjdU",
        "outputId": "e16d0551-bb84-4e45-b1da-88575054c3d8"
      },
      "execution_count": 148,
      "outputs": [
        {
          "output_type": "execute_result",
          "data": {
            "text/plain": [
              "RandomForestClassifier()"
            ]
          },
          "metadata": {},
          "execution_count": 148
        }
      ]
    },
    {
      "cell_type": "code",
      "source": [
        "y_pred_rf = rf.predict(X_test_scaled)"
      ],
      "metadata": {
        "id": "cZeMN0Lnjo1d"
      },
      "execution_count": 149,
      "outputs": []
    },
    {
      "cell_type": "code",
      "source": [
        "#y_pred_rf = np.argmax(y_pred_rf, axis=-1)"
      ],
      "metadata": {
        "id": "mDLeax0Zl8_F"
      },
      "execution_count": 145,
      "outputs": []
    },
    {
      "cell_type": "code",
      "source": [
        "print(classification_report(y_test, y_pred_rf))"
      ],
      "metadata": {
        "colab": {
          "base_uri": "https://localhost:8080/"
        },
        "id": "mctQRHkFj8Ib",
        "outputId": "0c7187be-1405-4b9e-e452-c885a45b9824"
      },
      "execution_count": 150,
      "outputs": [
        {
          "output_type": "stream",
          "name": "stdout",
          "text": [
            "              precision    recall  f1-score   support\n",
            "\n",
            "           0       0.76      0.85      0.81     37736\n",
            "           1       0.62      0.49      0.55     18796\n",
            "           2       0.51      0.27      0.35      1074\n",
            "\n",
            "    accuracy                           0.72     57606\n",
            "   macro avg       0.63      0.54      0.57     57606\n",
            "weighted avg       0.71      0.72      0.71     57606\n",
            "\n"
          ]
        }
      ]
    },
    {
      "cell_type": "code",
      "source": [
        "dt = DecisionTreeClassifier()"
      ],
      "metadata": {
        "id": "r8yWhZCivv-5"
      },
      "execution_count": 183,
      "outputs": []
    },
    {
      "cell_type": "code",
      "source": [
        "dt.fit(X_train_scaled, y_train)"
      ],
      "metadata": {
        "colab": {
          "base_uri": "https://localhost:8080/"
        },
        "id": "mMrx_a4MvyBZ",
        "outputId": "e71c2d7f-aeb3-41bb-bd49-8bd681352d10"
      },
      "execution_count": 184,
      "outputs": [
        {
          "output_type": "execute_result",
          "data": {
            "text/plain": [
              "DecisionTreeClassifier()"
            ]
          },
          "metadata": {},
          "execution_count": 184
        }
      ]
    },
    {
      "cell_type": "code",
      "source": [
        "y_pred_dt = dt.predict(X_test_scaled)"
      ],
      "metadata": {
        "id": "n08nEvOlv4oS"
      },
      "execution_count": 185,
      "outputs": []
    },
    {
      "cell_type": "code",
      "source": [
        "print(classification_report(y_test, y_pred_dt))"
      ],
      "metadata": {
        "colab": {
          "base_uri": "https://localhost:8080/"
        },
        "id": "xXTaLhzOv4jE",
        "outputId": "afc94888-94c2-4328-95ca-b9ede6fc5428"
      },
      "execution_count": 186,
      "outputs": [
        {
          "output_type": "stream",
          "name": "stdout",
          "text": [
            "              precision    recall  f1-score   support\n",
            "\n",
            "           0       0.76      0.85      0.80     37736\n",
            "           1       0.61      0.47      0.53     18796\n",
            "           2       0.39      0.27      0.32      1074\n",
            "\n",
            "    accuracy                           0.72     57606\n",
            "   macro avg       0.59      0.53      0.55     57606\n",
            "weighted avg       0.70      0.72      0.70     57606\n",
            "\n"
          ]
        }
      ]
    },
    {
      "cell_type": "code",
      "source": [
        "ada = AdaBoostClassifier(base_estimator=DecisionTreeClassifier())"
      ],
      "metadata": {
        "id": "0W3hhqBgv9tb"
      },
      "execution_count": 187,
      "outputs": []
    },
    {
      "cell_type": "code",
      "source": [
        "ada.fit(X_train_scaled, y_train)"
      ],
      "metadata": {
        "colab": {
          "base_uri": "https://localhost:8080/"
        },
        "id": "oCLbt2aCwDWj",
        "outputId": "c4456124-0c68-4f86-a70e-74aa99dbe77c"
      },
      "execution_count": 188,
      "outputs": [
        {
          "output_type": "execute_result",
          "data": {
            "text/plain": [
              "AdaBoostClassifier(base_estimator=DecisionTreeClassifier())"
            ]
          },
          "metadata": {},
          "execution_count": 188
        }
      ]
    },
    {
      "cell_type": "code",
      "source": [
        "y_pred_ada = ada.predict(X_test_scaled)"
      ],
      "metadata": {
        "id": "A_YzvpKlwGY_"
      },
      "execution_count": 189,
      "outputs": []
    },
    {
      "cell_type": "code",
      "source": [
        "print(classification_report(y_test, y_pred_ada))"
      ],
      "metadata": {
        "colab": {
          "base_uri": "https://localhost:8080/"
        },
        "id": "L5h9A8JOwIZo",
        "outputId": "0600e6af-9f82-4530-a73e-b1ae12a4976f"
      },
      "execution_count": 190,
      "outputs": [
        {
          "output_type": "stream",
          "name": "stdout",
          "text": [
            "              precision    recall  f1-score   support\n",
            "\n",
            "           0       0.76      0.84      0.80     37736\n",
            "           1       0.60      0.50      0.54     18796\n",
            "           2       0.46      0.28      0.35      1074\n",
            "\n",
            "    accuracy                           0.72     57606\n",
            "   macro avg       0.61      0.54      0.57     57606\n",
            "weighted avg       0.71      0.72      0.71     57606\n",
            "\n"
          ]
        }
      ]
    },
    {
      "cell_type": "code",
      "source": [
        "from sklearn.neighbors import KNeighborsClassifier"
      ],
      "metadata": {
        "id": "oT08wbBWxb4V"
      },
      "execution_count": 191,
      "outputs": []
    },
    {
      "cell_type": "code",
      "source": [
        "knn = KNeighborsClassifier(n_neighbors = 5, metric = 'manhattan', weights = 'distance', leaf_size = 15)\n",
        "knn.fit(X_train_scaled, y_train)"
      ],
      "metadata": {
        "execution": {
          "iopub.status.busy": "2022-09-20T00:33:48.145304Z",
          "iopub.execute_input": "2022-09-20T00:33:48.146252Z",
          "iopub.status.idle": "2022-09-20T00:33:48.163845Z",
          "shell.execute_reply.started": "2022-09-20T00:33:48.146215Z",
          "shell.execute_reply": "2022-09-20T00:33:48.162498Z"
        },
        "trusted": true,
        "id": "Nk5sQrbXgdwm",
        "outputId": "83f92f13-ef84-4be7-882c-b00795c043ad",
        "colab": {
          "base_uri": "https://localhost:8080/"
        }
      },
      "execution_count": 193,
      "outputs": [
        {
          "output_type": "execute_result",
          "data": {
            "text/plain": [
              "KNeighborsClassifier(leaf_size=15, metric='manhattan', weights='distance')"
            ]
          },
          "metadata": {},
          "execution_count": 193
        }
      ]
    },
    {
      "cell_type": "code",
      "source": [
        "y_pred_knn = knn.predict(X_test_scaled)"
      ],
      "metadata": {
        "id": "eWhYrUHAx4uq"
      },
      "execution_count": 194,
      "outputs": []
    },
    {
      "cell_type": "code",
      "source": [
        "print(classification_report(y_test, y_pred_knn))"
      ],
      "metadata": {
        "colab": {
          "base_uri": "https://localhost:8080/"
        },
        "id": "HPcbkSw-yC5o",
        "outputId": "8630b879-b2cc-4c03-de70-86542da91e22"
      },
      "execution_count": 195,
      "outputs": [
        {
          "output_type": "stream",
          "name": "stdout",
          "text": [
            "              precision    recall  f1-score   support\n",
            "\n",
            "           0       0.76      0.82      0.79     37736\n",
            "           1       0.58      0.50      0.54     18796\n",
            "           2       0.49      0.26      0.34      1074\n",
            "\n",
            "    accuracy                           0.71     57606\n",
            "   macro avg       0.61      0.53      0.56     57606\n",
            "weighted avg       0.70      0.71      0.70     57606\n",
            "\n"
          ]
        }
      ]
    }
  ]
}