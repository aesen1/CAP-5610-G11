{
 "cells": [
  {
   "cell_type": "markdown",
   "id": "664be0b4",
   "metadata": {},
   "source": [
    "Setting up"
   ]
  },
  {
   "cell_type": "code",
   "execution_count": 3,
   "id": "56349ab9",
   "metadata": {},
   "outputs": [],
   "source": [
    "import sklearn\n",
    "import pandas as pd\n",
    "import numpy as np\n",
    "\n",
    "input_prefix = \"../input/anz_crash_20200903_fix/\"\n",
    "cas_fp = input_prefix + \"Casualties.csv\"\n",
    "crash_fp = input_prefix + \"Crash2.csv\"\n",
    "dt_fp = input_prefix + \"DateTime.csv\"\n",
    "desc_fp = input_prefix + \"Description.csv\"\n",
    "loc_fp = input_prefix + \"Location2.csv\"\n",
    "veh_fp = input_prefix + \"Vehicles.csv\""
   ]
  },
  {
   "cell_type": "markdown",
   "id": "287d7b7f",
   "metadata": {},
   "source": [
    "Crash.csv is the \"central\" csv file that the other csv files connect to.\n",
    "\n",
    "Rows in crash.csv contain id values that link to description, datetime, location, casualties, and vehicles.\n",
    "\n",
    "The dataset source is https://www.kaggle.com/datasets/mgray39/australia-new-zealand-road-crash-dataset?resource=download-directory&select=anz_crash_20200903_fix and the link contains a graphic which clearly explains how all the files link together.\n",
    "\n",
    "In order to make this data usable, all the data needs to be combined using the id information."
   ]
  },
  {
   "cell_type": "markdown",
   "id": "e4ff17b0",
   "metadata": {},
   "source": [
    "Combine all csv files together"
   ]
  },
  {
   "cell_type": "code",
   "execution_count": 13,
   "id": "7133b6d8",
   "metadata": {},
   "outputs": [
    {
     "name": "stderr",
     "output_type": "stream",
     "text": [
      "C:\\Users\\thr0w\\anaconda3\\lib\\site-packages\\IPython\\core\\interactiveshell.py:3165: DtypeWarning: Columns (5) have mixed types.Specify dtype option on import or set low_memory=False.\n",
      "  has_raised = await self.run_ast_nodes(code_ast.body, cell_name,\n",
      "C:\\Users\\thr0w\\anaconda3\\lib\\site-packages\\IPython\\core\\interactiveshell.py:3165: DtypeWarning: Columns (3,6,7,8,9,10,11,12,13,14,16) have mixed types.Specify dtype option on import or set low_memory=False.\n",
      "  has_raised = await self.run_ast_nodes(code_ast.body, cell_name,\n",
      "C:\\Users\\thr0w\\anaconda3\\lib\\site-packages\\IPython\\core\\interactiveshell.py:3165: DtypeWarning: Columns (5,6,7) have mixed types.Specify dtype option on import or set low_memory=False.\n",
      "  has_raised = await self.run_ast_nodes(code_ast.body, cell_name,\n"
     ]
    },
    {
     "name": "stdout",
     "output_type": "stream",
     "text": [
      "         DCA_code  Unnamed: 0  animals  approximate  bicycle  bus  car_4x4  \\\n",
      "0             NaN         NaN      NaN          NaN      NaN  NaN      NaN   \n",
      "1             NaN         NaN      NaN          NaN      NaN  NaN      NaN   \n",
      "2             NaN         NaN      NaN          NaN      NaN  NaN      NaN   \n",
      "3             NaN         NaN      NaN          NaN      NaN  NaN      NaN   \n",
      "4             NaN         NaN      NaN          NaN      NaN  NaN      NaN   \n",
      "...           ...         ...      ...          ...      ...  ...      ...   \n",
      "1519450       NaN         NaN      NaN          NaN      NaN  NaN      NaN   \n",
      "1519451       NaN         NaN      NaN          NaN      NaN  NaN      NaN   \n",
      "1519452       NaN         NaN      NaN          NaN      NaN  NaN      NaN   \n",
      "1519453       NaN         NaN      NaN          NaN      NaN  NaN      NaN   \n",
      "1519454       NaN         NaN      NaN          NaN      NaN  NaN      NaN   \n",
      "\n",
      "         car_sedan  car_station_wagon  car_utility  ...  taxi  \\\n",
      "0              NaN                NaN          NaN  ...   NaN   \n",
      "1              NaN                NaN          NaN  ...   NaN   \n",
      "2              NaN                NaN          NaN  ...   NaN   \n",
      "3              NaN                NaN          NaN  ...   NaN   \n",
      "4              NaN                NaN          NaN  ...   NaN   \n",
      "...            ...                ...          ...  ...   ...   \n",
      "1519450        NaN                NaN          NaN  ...   NaN   \n",
      "1519451        NaN                NaN          NaN  ...   NaN   \n",
      "1519452        NaN                NaN          NaN  ...   NaN   \n",
      "1519453        NaN                NaN          NaN  ...   NaN   \n",
      "1519454        NaN                NaN          NaN  ...   NaN   \n",
      "\n",
      "         traffic_controls train  tram  truck_large  truck_small  \\\n",
      "0                     NaN   NaN   NaN          NaN          NaN   \n",
      "1                     NaN   NaN   NaN          NaN          NaN   \n",
      "2                     NaN   NaN   NaN          NaN          NaN   \n",
      "3                     NaN   NaN   NaN          NaN          NaN   \n",
      "4                     NaN   NaN   NaN          NaN          NaN   \n",
      "...                   ...   ...   ...          ...          ...   \n",
      "1519450               NaN   NaN   NaN          NaN          NaN   \n",
      "1519451               NaN   NaN   NaN          NaN          NaN   \n",
      "1519452               NaN   NaN   NaN          NaN          NaN   \n",
      "1519453               NaN   NaN   NaN          NaN          NaN   \n",
      "1519454               NaN   NaN   NaN          NaN          NaN   \n",
      "\n",
      "         vehicle_other vehicles_id  weather  year  \n",
      "0                  NaN         NaN      NaN   NaN  \n",
      "1                  NaN         NaN      NaN   NaN  \n",
      "2                  NaN         NaN      NaN   NaN  \n",
      "3                  NaN         NaN      NaN   NaN  \n",
      "4                  NaN         NaN      NaN   NaN  \n",
      "...                ...         ...      ...   ...  \n",
      "1519450            NaN         NaN      NaN   NaN  \n",
      "1519451            NaN         NaN      NaN   NaN  \n",
      "1519452            NaN         NaN      NaN   NaN  \n",
      "1519453            NaN         NaN      NaN   NaN  \n",
      "1519454            NaN         NaN      NaN   NaN  \n",
      "\n",
      "[1519455 rows x 57 columns]\n"
     ]
    }
   ],
   "source": [
    "cas_dat = pd.read_csv(cas_fp)\n",
    "crash_dat = pd.read_csv(crash_fp)\n",
    "dt_dat = pd.read_csv(dt_fp)\n",
    "desc_dat = pd.read_csv(desc_fp)\n",
    "loc_dat = pd.read_csv(loc_fp)\n",
    "veh_dat = pd.read_csv(veh_fp)\n",
    "\n",
    "# create new dataframe with features from datasets and crash data\n",
    "\n",
    "data = pd.DataFrame(cas_dat[:] + dt_dat[:] + desc_dat[:] + loc_dat[:] + veh_dat[:])\n",
    "data = data[0:0]\n",
    "data = pd.DataFrame(crash_dat + data)\n",
    "\n",
    "# cross reference the feature data in crash with other datasets to build the new dataframe\n",
    "print(data)"
   ]
  },
  {
   "cell_type": "code",
   "execution_count": null,
   "id": "a7e40725",
   "metadata": {},
   "outputs": [],
   "source": []
  }
 ],
 "metadata": {
  "kernelspec": {
   "display_name": "Python 3",
   "language": "python",
   "name": "python3"
  },
  "language_info": {
   "codemirror_mode": {
    "name": "ipython",
    "version": 3
   },
   "file_extension": ".py",
   "mimetype": "text/x-python",
   "name": "python",
   "nbconvert_exporter": "python",
   "pygments_lexer": "ipython3",
   "version": "3.8.8"
  }
 },
 "nbformat": 4,
 "nbformat_minor": 5
}
