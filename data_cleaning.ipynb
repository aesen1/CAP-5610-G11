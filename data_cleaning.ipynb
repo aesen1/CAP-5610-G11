{
 "cells": [
  {
   "cell_type": "code",
   "execution_count": 372,
   "outputs": [],
   "source": [
    "import pandas as pd\n",
    "import numpy as np"
   ],
   "metadata": {
    "collapsed": false
   }
  },
  {
   "cell_type": "code",
   "execution_count": 373,
   "outputs": [
    {
     "name": "stderr",
     "output_type": "stream",
     "text": [
      "C:\\Users\\Bruce\\AppData\\Local\\Temp\\ipykernel_17148\\1271035946.py:1: DtypeWarning: Columns (2,5,6,7,8,10,12,13,15,48,49) have mixed types. Specify dtype option on import or set low_memory=False.\n",
      "  df = pd.read_csv('../EDA_values.csv')\n"
     ]
    },
    {
     "data": {
      "text/plain": "(1048575, 55)"
     },
     "execution_count": 373,
     "metadata": {},
     "output_type": "execute_result"
    }
   ],
   "source": [
    "df = pd.read_csv('../EDA_values.csv')\n",
    "df.shape"
   ],
   "metadata": {
    "collapsed": false
   }
  },
  {
   "cell_type": "markdown",
   "source": [
    "# Remove speed-limit=777, 888, 999, Blanks"
   ],
   "metadata": {
    "collapsed": false
   }
  },
  {
   "cell_type": "code",
   "execution_count": 374,
   "outputs": [
    {
     "data": {
      "text/plain": "array([60, 40, 100, 50, 80, 70, 90, 25, 110, 15, 10, 20, 30, 5, 75, '50',\n       '100', '80', '90', '60', '40', '70', '30', '20', '110', '10',\n       '100 - 110 km/h', '60 km/h', '0 - 50 km/h', '70 km/h',\n       '80 - 90 km/h'], dtype=object)"
     },
     "execution_count": 374,
     "metadata": {},
     "output_type": "execute_result"
    }
   ],
   "source": [
    "outlier_speeds = [777,888,999]\n",
    "df = df.dropna(subset=['speed_limit'])\n",
    "df = df[df.speed_limit.isin(outlier_speeds) == False]\n",
    "df['speed_limit'].unique()"
   ],
   "metadata": {
    "collapsed": false
   }
  },
  {
   "cell_type": "markdown",
   "source": [
    "# Change string speeds to numeric"
   ],
   "metadata": {
    "collapsed": false
   }
  },
  {
   "cell_type": "code",
   "execution_count": 375,
   "outputs": [
    {
     "data": {
      "text/plain": "array([ 60,  40, 100,  50,  80,  70,  90,  25, 110,  15,  10,  20,  30,\n         5,  75], dtype=int64)"
     },
     "execution_count": 375,
     "metadata": {},
     "output_type": "execute_result"
    }
   ],
   "source": [
    "df.loc[df['speed_limit'] == '0 - 50 km/h', 'speed_limit'] = 50\n",
    "df.loc[df['speed_limit'] == '60 km/h', 'speed_limit'] = 60\n",
    "df.loc[df['speed_limit'] == '70 km/h', 'speed_limit'] = 70\n",
    "df.loc[df['speed_limit'] == '80 - 90 km/h', 'speed_limit'] = 90\n",
    "df.loc[df['speed_limit'] == '100 - 110 km/h', 'speed_limit'] = 100\n",
    "df['speed_limit']=pd.to_numeric(df.speed_limit).astype(np.int64)\n",
    "df['speed_limit'].unique()"
   ],
   "metadata": {
    "collapsed": false
   }
  },
  {
   "cell_type": "markdown",
   "source": [
    "# Change speed limit to categorical using new speed_labels column\n",
    "### 0-50 km/h, 50-80 km/h, 80-100 km/h, 100+ km/h"
   ],
   "metadata": {
    "collapsed": false
   }
  },
  {
   "cell_type": "code",
   "execution_count": 376,
   "outputs": [
    {
     "data": {
      "text/plain": "['50-80 km/h', '0-50 km/h', '100+ km/h', '80-100 km/h']\nCategories (4, object): ['0-50 km/h' < '50-80 km/h' < '80-100 km/h' < '100+ km/h']"
     },
     "execution_count": 376,
     "metadata": {},
     "output_type": "execute_result"
    }
   ],
   "source": [
    "speed_labels = pd.cut(x=df['speed_limit'], bins=[0, 50, 80, 90, 999],\n",
    "                    labels=['0-50 km/h', '50-80 km/h', '80-100 km/h',\n",
    "                             '100+ km/h'])\n",
    "df.insert(loc = 2, column = 'speed_labels', value = speed_labels)\n",
    "df['speed_labels'].unique()"
   ],
   "metadata": {
    "collapsed": false
   }
  },
  {
   "cell_type": "markdown",
   "source": [
    "# Remove road_position horizontal and vertical, road_sealed, road_wet"
   ],
   "metadata": {
    "collapsed": false
   }
  },
  {
   "cell_type": "code",
   "execution_count": 377,
   "outputs": [
    {
     "data": {
      "text/plain": "Index(['description_id', 'severity', 'speed_labels', 'speed_limit', 'midblock',\n       'intersection', 'weather', 'crash_type', 'lighting', 'traffic_controls',\n       'drugs_alcohol', 'DCA_code', 'comment', 'vehicles_id', 'animals',\n       'car_sedan', 'car_utility', 'car_van', 'car_4x4', 'car_station_wagon',\n       'motor_cycle', 'truck_small', 'truck_large', 'bus', 'taxi', 'bicycle',\n       'scooter', 'pedestrian', 'inanimate', 'train', 'tram', 'vehicle_other',\n       'date_time_id', 'year', 'month', 'day_of_week', 'day_of_month', 'hour',\n       'approximate', 'lat_long', 'latitude', 'longitude', 'country', 'state',\n       'local_government_area', 'statistical_area', 'suburb', 'casualties_id',\n       'casualties', 'fatalities', 'serious_injuries', 'minor_injuries'],\n      dtype='object')"
     },
     "execution_count": 377,
     "metadata": {},
     "output_type": "execute_result"
    }
   ],
   "source": [
    "df.drop(['road_position_horizontal', 'road_position_vertical', 'road_sealed', 'road_wet'], axis=1, inplace=True)\n",
    "df.columns"
   ],
   "metadata": {
    "collapsed": false
   }
  },
  {
   "cell_type": "markdown",
   "source": [
    "# Remove weather=unknown"
   ],
   "metadata": {
    "collapsed": false
   }
  },
  {
   "cell_type": "code",
   "execution_count": 378,
   "outputs": [
    {
     "data": {
      "text/plain": "array(['fine', 'rain', 'smoke_dust', 'high_wind', 'fog', 'snow', 'mist'],\n      dtype=object)"
     },
     "execution_count": 378,
     "metadata": {},
     "output_type": "execute_result"
    }
   ],
   "source": [
    "weather_outliers = ['unknown']\n",
    "df = df[df.weather.isin(weather_outliers) == False]\n",
    "df['weather'].unique()"
   ],
   "metadata": {
    "collapsed": false
   }
  },
  {
   "cell_type": "markdown",
   "source": [
    "# Remove lighting=unknown, other"
   ],
   "metadata": {
    "collapsed": false
   }
  },
  {
   "cell_type": "code",
   "execution_count": 379,
   "outputs": [
    {
     "data": {
      "text/plain": "array(['daylight', 'darkness_not_lit', 'darkness_lit', 'dawn_dusk',\n       'other'], dtype=object)"
     },
     "execution_count": 379,
     "metadata": {},
     "output_type": "execute_result"
    }
   ],
   "source": [
    "lighting_outliers = ['unknown']\n",
    "df = df[df.lighting.isin(lighting_outliers) == False]\n",
    "df['lighting'].unique()"
   ],
   "metadata": {
    "collapsed": false
   }
  },
  {
   "cell_type": "markdown",
   "source": [
    "# Remove traffic_controls=other, blank"
   ],
   "metadata": {
    "collapsed": false
   }
  },
  {
   "cell_type": "code",
   "execution_count": 380,
   "outputs": [
    {
     "data": {
      "text/plain": "array(['stop_sign', 'traffic_lights', 'giveway_sign', 'railway_crossing',\n       'manual_control', 'school_crossing', 'pedestrian_crossing'],\n      dtype=object)"
     },
     "execution_count": 380,
     "metadata": {},
     "output_type": "execute_result"
    }
   ],
   "source": [
    "traffic_outliers = ['other', 'none']\n",
    "df = df[df.traffic_controls.isin(traffic_outliers) == False]\n",
    "df = df.dropna(subset=['traffic_controls'])\n",
    "df['traffic_controls'].unique()"
   ],
   "metadata": {
    "collapsed": false
   }
  },
  {
   "cell_type": "markdown",
   "source": [
    "# Drug_alcohol change blank to 0 and 'Y' to 1"
   ],
   "metadata": {
    "collapsed": false
   }
  },
  {
   "cell_type": "code",
   "execution_count": 381,
   "outputs": [
    {
     "data": {
      "text/plain": "array([False,  True])"
     },
     "execution_count": 381,
     "metadata": {},
     "output_type": "execute_result"
    }
   ],
   "source": [
    "df['drugs_alcohol'] = df['drugs_alcohol'].fillna(False)\n",
    "df.loc[df['drugs_alcohol'] == 'Y', 'drugs_alcohol'] = True\n",
    "df['drugs_alcohol'] = df['drugs_alcohol'].astype(bool)\n",
    "df['drugs_alcohol'].unique()"
   ],
   "metadata": {
    "collapsed": false
   }
  },
  {
   "cell_type": "markdown",
   "source": [
    "# DCA code important, unsure how to continue\n",
    "### Removing column for now"
   ],
   "metadata": {
    "collapsed": false
   }
  },
  {
   "cell_type": "code",
   "execution_count": 382,
   "outputs": [
    {
     "data": {
      "text/plain": "Index(['description_id', 'severity', 'speed_labels', 'speed_limit', 'midblock',\n       'intersection', 'weather', 'crash_type', 'lighting', 'traffic_controls',\n       'drugs_alcohol', 'comment', 'vehicles_id', 'animals', 'car_sedan',\n       'car_utility', 'car_van', 'car_4x4', 'car_station_wagon', 'motor_cycle',\n       'truck_small', 'truck_large', 'bus', 'taxi', 'bicycle', 'scooter',\n       'pedestrian', 'inanimate', 'train', 'tram', 'vehicle_other',\n       'date_time_id', 'year', 'month', 'day_of_week', 'day_of_month', 'hour',\n       'approximate', 'lat_long', 'latitude', 'longitude', 'country', 'state',\n       'local_government_area', 'statistical_area', 'suburb', 'casualties_id',\n       'casualties', 'fatalities', 'serious_injuries', 'minor_injuries'],\n      dtype='object')"
     },
     "execution_count": 382,
     "metadata": {},
     "output_type": "execute_result"
    }
   ],
   "source": [
    "df.drop(['DCA_code'], axis=1, inplace=True)\n",
    "df.columns"
   ],
   "metadata": {
    "collapsed": false
   }
  },
  {
   "cell_type": "markdown",
   "source": [
    "# Remove comments, vehicle_id, vehicle_other"
   ],
   "metadata": {
    "collapsed": false
   }
  },
  {
   "cell_type": "code",
   "execution_count": 383,
   "outputs": [
    {
     "data": {
      "text/plain": "Index(['description_id', 'severity', 'speed_labels', 'speed_limit', 'midblock',\n       'intersection', 'weather', 'crash_type', 'lighting', 'traffic_controls',\n       'drugs_alcohol', 'animals', 'car_sedan', 'car_utility', 'car_van',\n       'car_4x4', 'car_station_wagon', 'motor_cycle', 'truck_small',\n       'truck_large', 'bus', 'taxi', 'bicycle', 'scooter', 'pedestrian',\n       'inanimate', 'train', 'tram', 'date_time_id', 'year', 'month',\n       'day_of_week', 'day_of_month', 'hour', 'approximate', 'lat_long',\n       'latitude', 'longitude', 'country', 'state', 'local_government_area',\n       'statistical_area', 'suburb', 'casualties_id', 'casualties',\n       'fatalities', 'serious_injuries', 'minor_injuries'],\n      dtype='object')"
     },
     "execution_count": 383,
     "metadata": {},
     "output_type": "execute_result"
    }
   ],
   "source": [
    "df.drop(['comment', 'vehicles_id', 'vehicle_other'], axis=1, inplace=True)\n",
    "df.columns"
   ],
   "metadata": {
    "collapsed": false
   }
  },
  {
   "cell_type": "markdown",
   "source": [
    "# Categorize severity"
   ],
   "metadata": {
    "collapsed": false
   }
  },
  {
   "cell_type": "code",
   "execution_count": 384,
   "outputs": [
    {
     "data": {
      "text/plain": "['property_damage', 'minor_injury', 'serious_injury', 'fatality']\nCategories (4, object): ['fatality', 'minor_injury', 'property_damage', 'serious_injury']"
     },
     "execution_count": 384,
     "metadata": {},
     "output_type": "execute_result"
    }
   ],
   "source": [
    "df['severity'] = df['severity'] = pd.Categorical(df.severity)\n",
    "df['severity'].unique()"
   ],
   "metadata": {
    "collapsed": false
   }
  },
  {
   "cell_type": "markdown",
   "source": [
    "# Categorize weather, lighting, and traffic controls"
   ],
   "metadata": {
    "collapsed": false
   }
  },
  {
   "cell_type": "code",
   "execution_count": 385,
   "outputs": [
    {
     "name": "stdout",
     "output_type": "stream",
     "text": [
      "['fine', 'rain', 'snow', 'mist', 'fog', 'smoke_dust']\n",
      "Categories (6, object): ['fine', 'fog', 'mist', 'rain', 'smoke_dust', 'snow']\n",
      "['daylight', 'darkness_not_lit', 'dawn_dusk', 'darkness_lit']\n",
      "Categories (4, object): ['darkness_lit', 'darkness_not_lit', 'dawn_dusk', 'daylight']\n",
      "['stop_sign', 'traffic_lights', 'giveway_sign', 'railway_crossing', 'manual_control', 'school_crossing', 'pedestrian_crossing']\n",
      "Categories (7, object): ['giveway_sign', 'manual_control', 'pedestrian_crossing', 'railway_crossing', 'school_crossing', 'stop_sign', 'traffic_lights']\n"
     ]
    }
   ],
   "source": [
    "df['weather'] = df['weather'] = pd.Categorical(df.weather)\n",
    "df['lighting'] = df['lighting'] = pd.Categorical(df.lighting)\n",
    "df['traffic_controls'] = df['traffic_controls'] = pd.Categorical(df.traffic_controls)\n",
    "print(df['weather'].unique())\n",
    "print(df['lighting'].unique())\n",
    "print(df['traffic_controls'].unique())"
   ],
   "metadata": {
    "collapsed": false
   }
  },
  {
   "cell_type": "markdown",
   "source": [
    "# Compare severity vs datetime columns and decide what to do with those columns\n",
    "### Unsure of severity correlation with date time so those columns were removed for now"
   ],
   "metadata": {
    "collapsed": false
   }
  },
  {
   "cell_type": "code",
   "execution_count": 386,
   "outputs": [
    {
     "data": {
      "text/plain": "Index(['description_id', 'severity', 'speed_labels', 'speed_limit', 'midblock',\n       'intersection', 'weather', 'crash_type', 'lighting', 'traffic_controls',\n       'drugs_alcohol', 'animals', 'car_sedan', 'car_utility', 'car_van',\n       'car_4x4', 'car_station_wagon', 'motor_cycle', 'truck_small',\n       'truck_large', 'bus', 'taxi', 'bicycle', 'scooter', 'pedestrian',\n       'inanimate', 'train', 'tram', 'date_time_id', 'approximate', 'lat_long',\n       'latitude', 'longitude', 'country', 'state', 'local_government_area',\n       'statistical_area', 'suburb', 'casualties_id', 'casualties',\n       'fatalities', 'serious_injuries', 'minor_injuries'],\n      dtype='object')"
     },
     "execution_count": 386,
     "metadata": {},
     "output_type": "execute_result"
    }
   ],
   "source": [
    "df.drop(['year', 'month','day_of_week', 'day_of_month', 'hour'], axis=1, inplace=True)\n",
    "df.columns"
   ],
   "metadata": {
    "collapsed": false
   }
  },
  {
   "cell_type": "markdown",
   "source": [
    "# Remove description_id, date_time_id, crash_type, approximate to minor_injuries columns"
   ],
   "metadata": {
    "collapsed": false
   }
  },
  {
   "cell_type": "code",
   "execution_count": 387,
   "outputs": [
    {
     "data": {
      "text/plain": "Index(['severity', 'speed_labels', 'speed_limit', 'midblock', 'intersection',\n       'weather', 'lighting', 'traffic_controls', 'drugs_alcohol', 'animals',\n       'car_sedan', 'car_utility', 'car_van', 'car_4x4', 'car_station_wagon',\n       'motor_cycle', 'truck_small', 'truck_large', 'bus', 'taxi', 'bicycle',\n       'scooter', 'pedestrian', 'inanimate', 'train', 'tram'],\n      dtype='object')"
     },
     "execution_count": 387,
     "metadata": {},
     "output_type": "execute_result"
    }
   ],
   "source": [
    "df.drop(['description_id', 'date_time_id', 'crash_type','approximate', 'lat_long',\n",
    "         'latitude', 'longitude', 'country', 'state', 'local_government_area',\n",
    "         'statistical_area', 'suburb', 'casualties_id', 'casualties',\n",
    "         'fatalities', 'serious_injuries', 'minor_injuries'], axis=1, inplace=True)\n",
    "df.columns"
   ],
   "metadata": {
    "collapsed": false
   }
  },
  {
   "cell_type": "markdown",
   "source": [
    "# Final shape and data types"
   ],
   "metadata": {
    "collapsed": false
   }
  },
  {
   "cell_type": "code",
   "execution_count": 388,
   "outputs": [
    {
     "name": "stdout",
     "output_type": "stream",
     "text": [
      "(287947, 26)\n",
      "severity             category\n",
      "speed_labels         category\n",
      "speed_limit             int64\n",
      "midblock                 bool\n",
      "intersection             bool\n",
      "weather              category\n",
      "lighting             category\n",
      "traffic_controls     category\n",
      "drugs_alcohol            bool\n",
      "animals                 int64\n",
      "car_sedan               int64\n",
      "car_utility             int64\n",
      "car_van                 int64\n",
      "car_4x4                 int64\n",
      "car_station_wagon       int64\n",
      "motor_cycle             int64\n",
      "truck_small             int64\n",
      "truck_large             int64\n",
      "bus                     int64\n",
      "taxi                    int64\n",
      "bicycle                 int64\n",
      "scooter                 int64\n",
      "pedestrian              int64\n",
      "inanimate               int64\n",
      "train                   int64\n",
      "tram                    int64\n",
      "dtype: object\n"
     ]
    }
   ],
   "source": [
    "print(df.shape)\n",
    "print(df.dtypes)"
   ],
   "metadata": {
    "collapsed": false
   }
  },
  {
   "cell_type": "markdown",
   "source": [
    "# Export to CSV"
   ],
   "metadata": {
    "collapsed": false
   }
  },
  {
   "cell_type": "code",
   "execution_count": 389,
   "outputs": [],
   "source": [
    "df.to_csv('./Data_Cleaning_output.csv')"
   ],
   "metadata": {
    "collapsed": false
   }
  }
 ],
 "metadata": {
  "kernelspec": {
   "display_name": "Python 3",
   "language": "python",
   "name": "python3"
  },
  "language_info": {
   "codemirror_mode": {
    "name": "ipython",
    "version": 2
   },
   "file_extension": ".py",
   "mimetype": "text/x-python",
   "name": "python",
   "nbconvert_exporter": "python",
   "pygments_lexer": "ipython2",
   "version": "2.7.6"
  }
 },
 "nbformat": 4,
 "nbformat_minor": 0
}
