{
 "cells": [
  {
   "cell_type": "markdown",
   "id": "664be0b4",
   "metadata": {},
   "source": [
    "Setting up"
   ]
  },
  {
   "cell_type": "code",
   "execution_count": null,
   "id": "56349ab9",
   "metadata": {},
   "outputs": [],
   "source": [
    "import sklearn\n",
    "import pandas as pd\n",
    "import numpy as np\n",
    "\n",
    "input_prefix = \"../input/anz_crash_20200903_fix/\"\n",
    "cas_fp = input_prefix + \"Casualties.csv\"\n",
    "crash_fp = input_prefix + \"Crash2.csv\"\n",
    "dt_fp = input_prefix + \"DateTime.csv\"\n",
    "desc_fp = input_prefix + \"Description.csv\"\n",
    "loc_fp = input_prefix + \"Location2.csv\"\n",
    "veh_fp = input_prefix + \"Vehicles.csv\""
   ]
  },
  {
   "cell_type": "markdown",
   "id": "6dfebbba",
   "metadata": {},
   "source": [
    "Crash.csv is the \"central\" csv file that the other csv files connect to.\n",
    "\n",
    "Rows in crash.csv contain id values that link to description, datetime, location, casualties, and vehicles.\n",
    "\n",
    "The dataset source is https://www.kaggle.com/datasets/mgray39/australia-new-zealand-road-crash-dataset?resource=download-directory&select=anz_crash_20200903_fix and the link contains a graphic which clearly explains how all the files link together.\n",
    "\n",
    "In order to make this data usable, all the data needs to be combined using the id information."
   ]
  },
  {
   "cell_type": "markdown",
   "id": "58f1053a",
   "metadata": {},
   "source": [
    "Combine all csv files together"
   ]
  },
  {
   "cell_type": "code",
   "execution_count": null,
   "id": "36cd866a",
   "metadata": {},
   "outputs": [],
   "source": [
    "cas_dat = pd.read_csv(cas_fp)\n",
    "crash_dat = pd.read_csv(crash_fp)\n",
    "dt_dat = pd.read_csv(dt_fp)\n",
    "desc_dat = pd.read_csv(desc_fp)\n",
    "loc_dat = pd.read_csv(loc_fp)\n",
    "veh_dat = pd.read_csv(veh_fp)"
   ]
  }
 ],
 "metadata": {
  "kernelspec": {
   "display_name": "Python 3",
   "language": "python",
   "name": "python3"
  },
  "language_info": {
   "codemirror_mode": {
    "name": "ipython",
    "version": 3
   },
   "file_extension": ".py",
   "mimetype": "text/x-python",
   "name": "python",
   "nbconvert_exporter": "python",
   "pygments_lexer": "ipython3",
   "version": "3.8.8"
  }
 },
 "nbformat": 4,
 "nbformat_minor": 5
}
