{
 "cells": [
  {
   "cell_type": "code",
   "execution_count": null,
   "metadata": {
    "id": "VskAjj7vOkLO"
   },
   "outputs": [],
   "source": [
    "import pandas as pd\n",
    "import numpy as np\n",
    "import matplotlib as mpl\n",
    "import matplotlib.pyplot as plt\n",
    "%matplotlib inline\n",
    "import seaborn as sns\n",
    "from sklearn.preprocessing import StandardScaler\n",
    "from sklearn.linear_model import LogisticRegression\n",
    "from sklearn.model_selection import RepeatedStratifiedKFold\n",
    "from sklearn.model_selection import cross_val_score\n",
    "from sklearn.cluster import KMeans\n",
    "from tensorflow.keras.models import Sequential\n",
    "from tensorflow.keras.layers import Dense\n",
    "from tensorflow.keras.wrappers.scikit_learn import KerasClassifier\n",
    "from sklearn.pipeline import Pipeline\n",
    "from sklearn.decomposition import PCA\n",
    "from sklearn.metrics import roc_curve\n",
    "from sklearn.metrics import auc\n",
    "from sklearn.metrics import roc_auc_score\n",
    "from sklearn.metrics import classification_report\n",
    "from sklearn.metrics import confusion_matrix\n",
    "from sklearn.model_selection import GridSearchCV\n",
    "from imblearn.over_sampling import SMOTE\n",
    "from sklearn.model_selection import train_test_split\n",
    "from sklearn.ensemble import RandomForestClassifier\n",
    "from sklearn.metrics import accuracy_score\n",
    "from tensorflow.keras import regularizers\n",
    "from tensorflow.keras import backend as K\n",
    "from sklearn.ensemble import AdaBoostClassifier\n",
    "from sklearn.tree import DecisionTreeClassifier\n",
    "\n",
    "from sklearn.model_selection import RandomizedSearchCV\n",
    "from sklearn.model_selection import GridSearchCV\n",
    "from sklearn.ensemble import GradientBoostingClassifier"
   ]
  },
  {
   "cell_type": "code",
   "execution_count": null,
   "metadata": {
    "colab": {
     "base_uri": "https://localhost:8080/"
    },
    "id": "JBgPeKQEYzjR",
    "outputId": "4b5d1443-7e26-4aa2-ac93-2ade82f03ab4"
   },
   "outputs": [],
   "source": [
    "data = pd.read_csv(\"post_EDA.csv\")\n",
    "print(\"after\" + str(data.shape))\n",
    "data['severity'] = data['severity'] - 1\n",
    "#data = data[data.severity != 0]\n",
    "\n",
    "indicies_2 = data[data.severity == 2].index\n",
    "indicies_1 = data[data.severity == 1].index\n",
    "indicies_0 = data[data.severity == 0].index\n",
    "\n",
    "print(indicies_2)\n",
    "print(indicies_1)\n",
    "print(indicies_0)\n",
    "\n",
    "sample_size = sum(data.severity == 2)\n",
    "random_indices_0 = np.random.choice(indicies_0, sample_size, replace=False)\n",
    "random_indices_1 = np.random.choice(indicies_1, sample_size, replace=False)\n",
    "random_indices_2 = np.random.choice(indicies_2, sample_size, replace=False)\n",
    "\n",
    "\n",
    "data1 = data.loc[random_indices_0]\n",
    "data2 = data.loc[random_indices_1]\n",
    "data3 = data.loc[random_indices_2]\n",
    "\n",
    "#data = pd.concat([data1, data2, data3])\n",
    "print(data)\n",
    "\n",
    "print(\"after\" + str(data.shape))"
   ]
  },
  {
   "cell_type": "code",
   "execution_count": null,
   "metadata": {
    "colab": {
     "base_uri": "https://localhost:8080/"
    },
    "id": "4cyZCHjId2SZ",
    "outputId": "ba3ed369-d2f7-47c9-9ad5-f47e7aa38822"
   },
   "outputs": [],
   "source": [
    "null = data.isnull().sum()\n",
    "null_sorted = null.sort_values(ascending = False)\n",
    "print(null_sorted)\n",
    "data = data.dropna()"
   ]
  },
  {
   "cell_type": "code",
   "execution_count": null,
   "metadata": {
    "id": "0Oq7hlCWZJUT"
   },
   "outputs": [],
   "source": [
    "X  = data.drop(columns = \"severity\")\n",
    "Y = data['severity']"
   ]
  },
  {
   "cell_type": "code",
   "execution_count": null,
   "metadata": {
    "id": "q7WD_Q4HZawi"
   },
   "outputs": [],
   "source": [
    "X_train, X_test, y_train, y_test = train_test_split(X, Y, random_state = 123, test_size = .3)"
   ]
  },
  {
   "cell_type": "code",
   "execution_count": null,
   "metadata": {
    "id": "Sb3o2pvRaIjp"
   },
   "outputs": [],
   "source": [
    "log_model = LogisticRegression()"
   ]
  },
  {
   "cell_type": "code",
   "execution_count": null,
   "metadata": {
    "id": "sOQBJRT7cQUl"
   },
   "outputs": [],
   "source": [
    "scaler = StandardScaler()"
   ]
  },
  {
   "cell_type": "code",
   "execution_count": null,
   "metadata": {
    "id": "nU0Yf8lKaPpO"
   },
   "outputs": [],
   "source": [
    "X_train_scaled = pd.DataFrame(scaler.fit_transform(X_train), columns = X_train.columns)"
   ]
  },
  {
   "cell_type": "code",
   "execution_count": null,
   "metadata": {
    "id": "RmBFUR4KcVre"
   },
   "outputs": [],
   "source": [
    "X_test_scaled = pd.DataFrame(scaler.fit_transform(X_test), columns = X_test.columns)"
   ]
  },
  {
   "cell_type": "code",
   "execution_count": null,
   "metadata": {
    "colab": {
     "base_uri": "https://localhost:8080/"
    },
    "id": "TO3fcx0Qcbku",
    "outputId": "85ec84aa-4957-409f-c4b0-b71a2b10fec1"
   },
   "outputs": [],
   "source": [
    "X_train_final, y_train_final = SMOTE().fit_resample(X_train_scaled, y_train)\n",
    "np.bincount(y_train_final)"
   ]
  },
  {
   "cell_type": "markdown",
   "metadata": {
    "id": "dxxkw4OGc-hD"
   },
   "source": [
    "# **Log Reg**"
   ]
  },
  {
   "cell_type": "code",
   "execution_count": null,
   "metadata": {
    "id": "M7uttYcLc9an"
   },
   "outputs": [],
   "source": [
    "steps =  [('pca', PCA(n_components=3)), ('m', LogisticRegression())]\n",
    "model = Pipeline(steps = steps)"
   ]
  },
  {
   "cell_type": "code",
   "execution_count": null,
   "metadata": {
    "colab": {
     "base_uri": "https://localhost:8080/"
    },
    "id": "JW6nn6QAdHAC",
    "outputId": "0b5172f9-9aa8-4f95-feba-184c7a068c3e"
   },
   "outputs": [],
   "source": [
    "model.fit(X_train_scaled, y_train)"
   ]
  },
  {
   "cell_type": "code",
   "execution_count": null,
   "metadata": {
    "id": "sh5h0m48dxuN"
   },
   "outputs": [],
   "source": [
    "y_pred_log = model.predict(X_test_scaled)"
   ]
  },
  {
   "cell_type": "code",
   "execution_count": null,
   "metadata": {
    "colab": {
     "base_uri": "https://localhost:8080/"
    },
    "id": "vAWajZQMeUIR",
    "outputId": "7f1cb7ef-8029-4685-8322-bd7d360375fe"
   },
   "outputs": [],
   "source": [
    "print(classification_report(y_test, y_pred_log))"
   ]
  },
  {
   "cell_type": "code",
   "execution_count": null,
   "metadata": {
    "id": "3kJWbhuCfiFl"
   },
   "outputs": [],
   "source": [
    "def create_model(neurons= 5, optimizer = 'Adam', activation = 'sigmoid', layer_count = 2, learning_rate = .003):\n",
    "  model = Sequential()    \n",
    "  model.add(Dense(neurons, activation = activation, input_shape = (15, ), kernel_regularizer=regularizers.L1L2(l1=1e-5, l2=1e-4), bias_regularizer=regularizers.L2(1e-4), activity_regularizer=regularizers.L2(1e-5)))\n",
    "  for i in range(layer_count - 1):    \n",
    "    model.add(Dense(neurons, activation=activation, kernel_regularizer=regularizers.L1L2(l1=1e-5, l2=1e-4), bias_regularizer=regularizers.L2(1e-4), activity_regularizer=regularizers.L2(1e-5)))\n",
    "  model.add(Dense(1, activation='hard_sigmoid'))  \n",
    "  model.compile(loss='categorical_crossentropy', optimizer= optimizer, metrics=['categorical_accuracy'])\n",
    "  K.set_value(model.optimizer.learning_rate, learning_rate)\n",
    "  return model"
   ]
  },
  {
   "cell_type": "code",
   "execution_count": null,
   "metadata": {
    "colab": {
     "base_uri": "https://localhost:8080/"
    },
    "id": "ikHk-mAofuxN",
    "outputId": "09d4e8d1-4545-4786-bd8d-d4988892342a"
   },
   "outputs": [],
   "source": [
    "#nn = create_model()\n",
    "#nn.fit(X_train_scaled, y_train, epochs = 200, verbose = 0)"
   ]
  },
  {
   "cell_type": "code",
   "execution_count": null,
   "metadata": {
    "id": "ffw4AarBgtbU"
   },
   "outputs": [],
   "source": [
    "#y_pred_net = nn.predict(X_test_scaled)"
   ]
  },
  {
   "cell_type": "code",
   "execution_count": null,
   "metadata": {
    "id": "YTHzjTsBi04Z"
   },
   "outputs": [],
   "source": [
    "#y_pred_net = np.argmax(y_pred_net, axis=-1)"
   ]
  },
  {
   "cell_type": "code",
   "execution_count": null,
   "metadata": {
    "colab": {
     "base_uri": "https://localhost:8080/"
    },
    "id": "xdDpKeBGgxeQ",
    "outputId": "29ad4bb0-6b8a-498c-818a-7f1abf89db42"
   },
   "outputs": [],
   "source": [
    "#print(classification_report(y_test, y_pred_net))"
   ]
  },
  {
   "cell_type": "code",
   "execution_count": null,
   "metadata": {
    "id": "NVAXCS3XjhPg"
   },
   "outputs": [],
   "source": [
    "from sklearn.utils import resample\n",
    "\n",
    "params = {\n",
    "    'criterion' : ['ginni', 'entropy'],\n",
    "    'n_estimators' : [10, 50, 100, 200],\n",
    "    'max_depth' : [4, 5, 6, 10, 15, 20],\n",
    "    'max_features' : [None, 'sqrt', 'log2'],\n",
    "    'min_impurity_decrease' : [0, 0.0005, 0.0007, 0.001, 0.01],\n",
    "    'bootstrap' : [False, True]\n",
    "}\n",
    "search = GridSearchCV(RandomForestClassifier(), params, n_jobs=-2, cv=5)\n",
    "X_train_sampled, y_train_sampled = resample(X_train_scaled, y_train)\n",
    "model = search.fit(X_train_sampled, y_train_sampled)\n",
    "best = model.best_estimator_.get_params()"
   ]
  },
  {
   "cell_type": "code",
   "execution_count": null,
   "metadata": {
    "colab": {
     "base_uri": "https://localhost:8080/"
    },
    "id": "0KD1B4OpjjdU",
    "outputId": "e16d0551-bb84-4e45-b1da-88575054c3d8"
   },
   "outputs": [],
   "source": [
    "rf = RandomForestClassifier(n_estimators = best['n_estimators'], \n",
    "                               max_depth = best['max_depth'],\n",
    "                               max_features = best['max_features'], \n",
    "                               min_impurity_decrease = best['min_impurity_decrease'],\n",
    "                               bootstrap = best['bootstrap'],\n",
    "                               criterion = best['criterion']\n",
    "                              )\n",
    "rf.fit(X_train_sampled, y_train_sampled)"
   ]
  },
  {
   "cell_type": "code",
   "execution_count": null,
   "metadata": {
    "id": "cZeMN0Lnjo1d"
   },
   "outputs": [],
   "source": [
    "y_pred_rf = rf.predict(X_test_scaled)"
   ]
  },
  {
   "cell_type": "code",
   "execution_count": null,
   "metadata": {
    "id": "mDLeax0Zl8_F"
   },
   "outputs": [],
   "source": [
    "#y_pred_rf = np.argmax(y_pred_rf, axis=-1)"
   ]
  },
  {
   "cell_type": "code",
   "execution_count": null,
   "metadata": {
    "colab": {
     "base_uri": "https://localhost:8080/"
    },
    "id": "mctQRHkFj8Ib",
    "outputId": "0c7187be-1405-4b9e-e452-c885a45b9824"
   },
   "outputs": [],
   "source": [
    "print(classification_report(y_test, y_pred_rf))"
   ]
  },
  {
   "cell_type": "code",
   "execution_count": null,
   "metadata": {
    "id": "r8yWhZCivv-5"
   },
   "outputs": [],
   "source": [
    "dt = DecisionTreeClassifier()"
   ]
  },
  {
   "cell_type": "code",
   "execution_count": null,
   "metadata": {
    "colab": {
     "base_uri": "https://localhost:8080/"
    },
    "id": "mMrx_a4MvyBZ",
    "outputId": "e71c2d7f-aeb3-41bb-bd49-8bd681352d10"
   },
   "outputs": [],
   "source": [
    "dt.fit(X_train_scaled, y_train)"
   ]
  },
  {
   "cell_type": "code",
   "execution_count": null,
   "metadata": {
    "id": "n08nEvOlv4oS"
   },
   "outputs": [],
   "source": [
    "y_pred_dt = dt.predict(X_test_scaled)"
   ]
  },
  {
   "cell_type": "code",
   "execution_count": null,
   "metadata": {
    "colab": {
     "base_uri": "https://localhost:8080/"
    },
    "id": "xXTaLhzOv4jE",
    "outputId": "afc94888-94c2-4328-95ca-b9ede6fc5428"
   },
   "outputs": [],
   "source": [
    "print(classification_report(y_test, y_pred_dt))"
   ]
  },
  {
   "cell_type": "code",
   "execution_count": null,
   "metadata": {
    "id": "0W3hhqBgv9tb"
   },
   "outputs": [],
   "source": [
    "#ada = AdaBoostClassifier(base_estimator=DecisionTreeClassifier())\n",
    "params = {\n",
    "    \"base_estimator\" : [None, DecisionTreeClassifier()],\n",
    "    \"n_estimators\" : [1, 25, 50, 100, 200, 500],\n",
    "    \"learning_rate\" : [1.0, 0.1, 0.01, .001],\n",
    "    \"algorithm\" : [\"SAMME\", \"SAMME.R\"]\n",
    "}\n",
    "search = GridSearchCV(AdaBoostClassifier(), params, n_jobs=-2, cv = 1)\n",
    "X_train_sampled, y_train_sampled = resample(X_train_scaled, y_train)\n",
    "X_train_sampled, X_valid, y_train_sampled, y_valid = train_test_split(X_train_sampled, y_train_sampled, train_size=0.9)\n",
    "model = search.fit(X_valid, y_valid)\n",
    "\n",
    "\n",
    "best = model.best_estimator_.get_params()\n",
    "ada = AdaBoostClassifier(base_estimator = best[\"base_estimator\"],\n",
    "                        n_estimators = best[\"n_estimators\"],\n",
    "                        learning_rate = best[\"learning_rate\"],\n",
    "                        algorithm = best[\"algorithm\"])"
   ]
  },
  {
   "cell_type": "code",
   "execution_count": null,
   "metadata": {
    "colab": {
     "base_uri": "https://localhost:8080/"
    },
    "id": "oCLbt2aCwDWj",
    "outputId": "c4456124-0c68-4f86-a70e-74aa99dbe77c"
   },
   "outputs": [],
   "source": [
    "ada.fit(X_train_sampled, y_train_sampled)"
   ]
  },
  {
   "cell_type": "code",
   "execution_count": null,
   "metadata": {
    "id": "A_YzvpKlwGY_"
   },
   "outputs": [],
   "source": [
    "y_pred_ada = ada.predict(X_test_scaled)"
   ]
  },
  {
   "cell_type": "code",
   "execution_count": null,
   "metadata": {
    "colab": {
     "base_uri": "https://localhost:8080/"
    },
    "id": "L5h9A8JOwIZo",
    "outputId": "0600e6af-9f82-4530-a73e-b1ae12a4976f"
   },
   "outputs": [],
   "source": [
    "print(classification_report(y_test, y_pred_ada))"
   ]
  },
  {
   "cell_type": "code",
   "execution_count": null,
   "metadata": {
    "id": "oT08wbBWxb4V"
   },
   "outputs": [],
   "source": [
    "from sklearn.neighbors import KNeighborsClassifier"
   ]
  },
  {
   "cell_type": "code",
   "execution_count": null,
   "metadata": {
    "colab": {
     "base_uri": "https://localhost:8080/"
    },
    "execution": {
     "iopub.execute_input": "2022-09-20T00:33:48.146252Z",
     "iopub.status.busy": "2022-09-20T00:33:48.145304Z",
     "iopub.status.idle": "2022-09-20T00:33:48.163845Z",
     "shell.execute_reply": "2022-09-20T00:33:48.162498Z",
     "shell.execute_reply.started": "2022-09-20T00:33:48.146215Z"
    },
    "id": "Nk5sQrbXgdwm",
    "outputId": "83f92f13-ef84-4be7-882c-b00795c043ad"
   },
   "outputs": [],
   "source": [
    "params = {\n",
    "    \"n_neighbors\" : [2, 5, 7, 10],\n",
    "    \"metric\" : [\"manhattan\", \"minkowski\"],\n",
    "    \"weights\" : [\"distance\", \"uniform\"],\n",
    "    \"leaf_size\" : [10, 15, 20, 25, 30, 50]\n",
    "}\n",
    "search = GridSearchCV(KNeighborsClassifier(), params, n_jobs=-2, cv = 3)\n",
    "X_train_sampled, y_train_sampled = resample(X_train_scaled, y_train)\n",
    "model = search.fit(X_train_sampled, y_train_sampled)\n",
    "best = model.best_estimator_.get_params()\n",
    "\n",
    "knn = KNeighborsClassifier(n_neighbors = best[\"n_neighbors\"],\n",
    "                           metric = best[\"metric\"],\n",
    "                           weights = best[\"weights\"],\n",
    "                           leaf_size = best[\"leaf_size\"])\n",
    "knn.fit(X_train_scaled, y_train)"
   ]
  },
  {
   "cell_type": "code",
   "execution_count": null,
   "metadata": {
    "id": "eWhYrUHAx4uq"
   },
   "outputs": [],
   "source": [
    "y_pred_knn = knn.predict(X_test_scaled)"
   ]
  },
  {
   "cell_type": "code",
   "execution_count": null,
   "metadata": {
    "colab": {
     "base_uri": "https://localhost:8080/"
    },
    "id": "HPcbkSw-yC5o",
    "outputId": "8630b879-b2cc-4c03-de70-86542da91e22"
   },
   "outputs": [],
   "source": [
    "print(classification_report(y_test, y_pred_knn))"
   ]
  }
 ],
 "metadata": {
  "colab": {
   "collapsed_sections": [],
   "provenance": []
  },
  "kernelspec": {
   "display_name": "Python 3 (ipykernel)",
   "language": "python",
   "name": "python3"
  },
  "language_info": {
   "codemirror_mode": {
    "name": "ipython",
    "version": 3
   },
   "file_extension": ".py",
   "mimetype": "text/x-python",
   "name": "python",
   "nbconvert_exporter": "python",
   "pygments_lexer": "ipython3",
   "version": "3.9.7"
  }
 },
 "nbformat": 4,
 "nbformat_minor": 1
}
