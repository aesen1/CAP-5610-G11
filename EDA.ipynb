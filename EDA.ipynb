{
 "cells": [
  {
   "cell_type": "code",
   "execution_count": 2,
   "metadata": {
    "id": "BCibvsgx1q-A"
   },
   "outputs": [],
   "source": [
    "import pandas as pd\n",
    "import numpy as np\n",
    "import matplotlib as mpl\n",
    "import matplotlib.pyplot as plt\n",
    "%matplotlib inline\n",
    "import seaborn as sns\n",
    "import scipy.stats as st\n",
    "from sklearn.model_selection import train_test_split\n",
    "from sklearn.preprocessing import StandardScaler\n",
    "import missingno as msno\n",
    "from imblearn.over_sampling import SMOTE\n",
    "from sklearn.pipeline import Pipeline\n",
    "from sklearn.decomposition import PCA\n",
    "from sklearn.linear_model import LogisticRegression\n",
    "from sklearn.model_selection import RepeatedStratifiedKFold\n",
    "from sklearn.model_selection import cross_val_score\n",
    "from sklearn.cluster import KMeans\n",
    "from tensorflow.keras.models import Sequential\n",
    "from tensorflow.keras.layers import Dense\n",
    "from tensorflow.keras.wrappers.scikit_learn import KerasClassifier\n",
    "from sklearn.metrics import roc_curve\n",
    "from sklearn.metrics import auc\n",
    "from sklearn.metrics import roc_auc_score\n",
    "from sklearn.metrics import classification_report\n",
    "from sklearn.metrics import confusion_matrix\n",
    "from sklearn.model_selection import GridSearchCV"
   ]
  },
  {
   "cell_type": "code",
   "execution_count": 3,
   "metadata": {
    "colab": {
     "base_uri": "https://localhost:8080/"
    },
    "id": "eWurfJK4yElV",
    "outputId": "20795955-ad57-4219-8cb1-dfd693f434cf"
   },
   "outputs": [
    {
     "ename": "ModuleNotFoundError",
     "evalue": "No module named 'google.colab'",
     "output_type": "error",
     "traceback": [
      "\u001b[1;31m---------------------------------------------------------------------------\u001b[0m",
      "\u001b[1;31mModuleNotFoundError\u001b[0m                       Traceback (most recent call last)",
      "\u001b[1;32m~\\AppData\\Local\\Temp/ipykernel_10640/1408506528.py\u001b[0m in \u001b[0;36m<module>\u001b[1;34m\u001b[0m\n\u001b[1;32m----> 1\u001b[1;33m \u001b[1;32mfrom\u001b[0m \u001b[0mgoogle\u001b[0m\u001b[1;33m.\u001b[0m\u001b[0mcolab\u001b[0m \u001b[1;32mimport\u001b[0m \u001b[0mdrive\u001b[0m\u001b[1;33m\u001b[0m\u001b[1;33m\u001b[0m\u001b[0m\n\u001b[0m\u001b[0;32m      2\u001b[0m \u001b[0mdrive\u001b[0m\u001b[1;33m.\u001b[0m\u001b[0mmount\u001b[0m\u001b[1;33m(\u001b[0m\u001b[1;34m'/content/drive'\u001b[0m\u001b[1;33m)\u001b[0m\u001b[1;33m\u001b[0m\u001b[1;33m\u001b[0m\u001b[0m\n",
      "\u001b[1;31mModuleNotFoundError\u001b[0m: No module named 'google.colab'"
     ]
    }
   ],
   "source": [
    "from google.colab import drive\n",
    "drive.mount('/content/drive')"
   ]
  },
  {
   "cell_type": "code",
   "execution_count": null,
   "metadata": {
    "colab": {
     "base_uri": "https://localhost:8080/"
    },
    "id": "QpkrvzRw1nwg",
    "outputId": "f508622b-4391-4633-8cd5-1a3a2c0942ad"
   },
   "outputs": [],
   "source": [
    "data = pd.read_csv(\"/content/drive/MyDrive/Colab Notebooks/ML Project/output_data.csv\")\n",
    "data.shape"
   ]
  },
  {
   "cell_type": "code",
   "execution_count": null,
   "metadata": {
    "colab": {
     "base_uri": "https://localhost:8080/"
    },
    "id": "AGqfzrKA1z_p",
    "outputId": "020b143d-d374-46c3-d60b-a0b8ec9f19e6"
   },
   "outputs": [],
   "source": [
    "data.select_dtypes(include = ['object']).columns.tolist()"
   ]
  },
  {
   "cell_type": "code",
   "execution_count": null,
   "metadata": {
    "colab": {
     "base_uri": "https://localhost:8080/",
     "height": 236
    },
    "id": "SwEKROIN3tSW",
    "outputId": "4738d330-0559-4914-a5ea-33e282b72204"
   },
   "outputs": [],
   "source": [
    "data.head()"
   ]
  },
  {
   "cell_type": "code",
   "execution_count": null,
   "metadata": {
    "colab": {
     "base_uri": "https://localhost:8080/"
    },
    "id": "bYLIMxjW2OSJ",
    "outputId": "61b1501b-fb69-4500-e724-fb89b8999328"
   },
   "outputs": [],
   "source": [
    "null = data.isnull().sum()\n",
    "null_sorted = null.sort_values(ascending = False)\n",
    "print(null_sorted)"
   ]
  },
  {
   "cell_type": "code",
   "execution_count": null,
   "metadata": {
    "colab": {
     "base_uri": "https://localhost:8080/"
    },
    "id": "XQNO6-O13_Lr",
    "outputId": "bbea9ecd-3ade-4697-c035-ccb58edb0859"
   },
   "outputs": [],
   "source": [
    "data['severity'].value_counts()"
   ]
  },
  {
   "cell_type": "code",
   "execution_count": null,
   "metadata": {
    "id": "5GXZ0sY14XKg"
   },
   "outputs": [],
   "source": [
    "mapping = {\"minor_injury\" : 0, \"serious_injury\" : 1, \"fatality\" : 2}\n",
    "data[\"severity\"] = data[\"severity\"].map(mapping)"
   ]
  },
  {
   "cell_type": "code",
   "execution_count": null,
   "metadata": {
    "colab": {
     "base_uri": "https://localhost:8080/",
     "height": 1000
    },
    "id": "uWFwj6rX3w99",
    "outputId": "44161245-5d87-4b12-d388-c705a2b9d037"
   },
   "outputs": [],
   "source": [
    "correlation = data.corr()\n",
    "plt.figure(figsize =(30, 20))\n",
    "sns.heatmap(correlation, annot=True)"
   ]
  },
  {
   "cell_type": "code",
   "execution_count": null,
   "metadata": {
    "colab": {
     "base_uri": "https://localhost:8080/",
     "height": 368
    },
    "id": "MnHzPBHE32qd",
    "outputId": "968ac865-5ea0-49f7-e22e-b44488b6c060"
   },
   "outputs": [],
   "source": [
    "plt.title('Speed Limit with Severity of 1')\n",
    "sns.distplot(data['speed_limit'][data['severity'] == 1], bins = 15)"
   ]
  },
  {
   "cell_type": "code",
   "execution_count": null,
   "metadata": {
    "colab": {
     "base_uri": "https://localhost:8080/",
     "height": 368
    },
    "id": "4HIuOu0b7cEZ",
    "outputId": "882afc46-dc45-4822-befd-8b3d4fcae43f"
   },
   "outputs": [],
   "source": [
    "plt.title('Speed Limit with Severity of 2')\n",
    "sns.distplot(data['speed_limit'][data['severity'] == 2], bins = 15)"
   ]
  },
  {
   "cell_type": "code",
   "execution_count": null,
   "metadata": {
    "colab": {
     "base_uri": "https://localhost:8080/",
     "height": 368
    },
    "id": "R2M7BCcE7cdR",
    "outputId": "465a24f5-d805-4d11-e3e4-d146c7e38896"
   },
   "outputs": [],
   "source": [
    "plt.title('Speed Limit with Severity of 3')\n",
    "sns.distplot(data['speed_limit'][data['severity'] == 3], bins = 15)"
   ]
  },
  {
   "cell_type": "code",
   "execution_count": null,
   "metadata": {
    "colab": {
     "base_uri": "https://localhost:8080/"
    },
    "id": "QM4R3e4v-PMZ",
    "outputId": "91c5bc7d-0575-4723-b56b-42e8c5ba4fb1"
   },
   "outputs": [],
   "source": [
    "data[\"severity\"][data[\"intersection\"] == 0].value_counts()"
   ]
  },
  {
   "cell_type": "code",
   "execution_count": null,
   "metadata": {
    "colab": {
     "base_uri": "https://localhost:8080/",
     "height": 264
    },
    "id": "pBtUNZbv8sAi",
    "outputId": "e8798c1d-05b1-4e73-9ab0-446182eda353"
   },
   "outputs": [],
   "source": [
    "plt.title('Severity of Crash not at Intersection')\n",
    "plt.pie(data[\"severity\"][data[\"intersection\"] == 0].value_counts(), labels = data[\"severity\"].unique(), shadow = True)\n",
    "plt.legend()\n",
    "plt.show() "
   ]
  },
  {
   "cell_type": "code",
   "execution_count": null,
   "metadata": {
    "colab": {
     "base_uri": "https://localhost:8080/"
    },
    "id": "meDtfn3P-NlO",
    "outputId": "857070ce-268c-447a-e042-a7196c18639b"
   },
   "outputs": [],
   "source": [
    "data[\"severity\"][data[\"intersection\"] == 1].value_counts()"
   ]
  },
  {
   "cell_type": "code",
   "execution_count": null,
   "metadata": {
    "colab": {
     "base_uri": "https://localhost:8080/",
     "height": 264
    },
    "id": "7-ddCQ5f-Gei",
    "outputId": "67b97e2f-087e-4ded-8d71-45ac8de25138"
   },
   "outputs": [],
   "source": [
    "plt.title('Severity of Crash at Intersection')\n",
    "plt.pie(data[\"severity\"][data[\"intersection\"] == 1].value_counts(), labels = data[\"severity\"].unique(), shadow = True)\n",
    "plt.legend()\n",
    "plt.show() "
   ]
  },
  {
   "cell_type": "code",
   "execution_count": null,
   "metadata": {
    "id": "rxq-Ny2f6Bfx"
   },
   "outputs": [],
   "source": [
    "data = data.drop(columns = ['midblock'])"
   ]
  },
  {
   "cell_type": "code",
   "execution_count": null,
   "metadata": {
    "id": "1qdPPoIn6Usg"
   },
   "outputs": [],
   "source": [
    "data['car'] = data[\"car_sedan\"] + data[\"car_utility\"] + data[\"car_van\"] + data[\"car_4x4\"]"
   ]
  },
  {
   "cell_type": "code",
   "execution_count": null,
   "metadata": {
    "id": "LXxRhOqZCLx7"
   },
   "outputs": [],
   "source": [
    "data = data.drop(columns = [\"car_sedan\", \"car_utility\", \"car_van\", \"car_4x4\"])"
   ]
  },
  {
   "cell_type": "code",
   "execution_count": null,
   "metadata": {
    "id": "rqcJL5vCCn69"
   },
   "outputs": [],
   "source": [
    "data['car'] = data['car'] + data['car_station_wagon']"
   ]
  },
  {
   "cell_type": "code",
   "execution_count": null,
   "metadata": {
    "id": "3pmwaN-tCvGf"
   },
   "outputs": [],
   "source": [
    "data = data.drop(columns = ['car_station_wagon'])"
   ]
  },
  {
   "cell_type": "code",
   "execution_count": null,
   "metadata": {
    "id": "YzZDrXnVMzpt"
   },
   "outputs": [],
   "source": [
    "data['car'] = data['car'] + data['taxi']"
   ]
  },
  {
   "cell_type": "code",
   "execution_count": null,
   "metadata": {
    "id": "DP2qUK1qMpom"
   },
   "outputs": [],
   "source": [
    "data[\"large_vehicles\"] = data['truck_small'] + data['truck_large'] + data['bus']"
   ]
  },
  {
   "cell_type": "code",
   "execution_count": null,
   "metadata": {
    "id": "NMW9lnMeNXKk"
   },
   "outputs": [],
   "source": [
    "data = data.drop(columns = [\"truck_small\", \"truck_large\", \"bus\", \"taxi\"])"
   ]
  },
  {
   "cell_type": "code",
   "execution_count": null,
   "metadata": {
    "id": "-FL5lGs-Nirk"
   },
   "outputs": [],
   "source": [
    "data['rail_vehicle'] = data['train'] + data ['tram']"
   ]
  },
  {
   "cell_type": "code",
   "execution_count": null,
   "metadata": {
    "id": "FTJY3bfJNpo9"
   },
   "outputs": [],
   "source": [
    "data = data.drop(columns = [\"train\", \"tram\"])"
   ]
  },
  {
   "cell_type": "code",
   "execution_count": null,
   "metadata": {
    "id": "zz_jOrJJOBZT"
   },
   "outputs": [],
   "source": [
    "data = data.drop(columns = ['bicycle', 'animals'])"
   ]
  },
  {
   "cell_type": "code",
   "execution_count": null,
   "metadata": {
    "id": "hXsygRcEOnhW"
   },
   "outputs": [],
   "source": [
    "data = data.drop(columns = ['road_sealed', 'road_wet', 'year', 'inanimate'])"
   ]
  },
  {
   "cell_type": "code",
   "execution_count": null,
   "metadata": {
    "id": "3BRH_cNQO3M5"
   },
   "outputs": [],
   "source": [
    "data[\"two_wheeled\"] = data['scooter'] + data['motor_cycle']"
   ]
  },
  {
   "cell_type": "code",
   "execution_count": null,
   "metadata": {
    "id": "Bm7ioQCGO_30"
   },
   "outputs": [],
   "source": [
    "data = data.drop(columns = [\"scooter\", \"motor_cycle\"])"
   ]
  },
  {
   "cell_type": "code",
   "execution_count": null,
   "metadata": {
    "colab": {
     "base_uri": "https://localhost:8080/"
    },
    "id": "zwnUsaMURaud",
    "outputId": "605599df-2a89-4ed0-8a89-46ee6f980aa1"
   },
   "outputs": [],
   "source": [
    "data['hour'].value_counts()"
   ]
  },
  {
   "cell_type": "code",
   "execution_count": null,
   "metadata": {
    "id": "5sExHQ2GPVpg"
   },
   "outputs": [],
   "source": [
    "data.loc[(data['hour'] >= 0) & (data['hour'] < 8), 'time_of_day'] = 0\n",
    "data.loc[(data['hour'] >= 8) & (data['hour'] < 16), 'time_of_day'] = 1\n",
    "data.loc[(data['hour'] >= 16) & (data['hour'] <= 23), 'time_of_day'] = 2"
   ]
  },
  {
   "cell_type": "code",
   "execution_count": null,
   "metadata": {
    "colab": {
     "base_uri": "https://localhost:8080/"
    },
    "id": "dtu9IDFeVL4b",
    "outputId": "eee41295-896e-4e26-cc4d-43bc8a8cdd61"
   },
   "outputs": [],
   "source": [
    "data['month'].value_counts()"
   ]
  },
  {
   "cell_type": "markdown",
   "metadata": {
    "id": "CtA_aLA8ViG9"
   },
   "source": [
    "Using Austrailia seasons 0 = Spring, 1 = Summer, 2 = Fall, 3 = Winter"
   ]
  },
  {
   "cell_type": "code",
   "execution_count": null,
   "metadata": {
    "id": "mhcV_lidVg6_"
   },
   "outputs": [],
   "source": [
    "data.loc[(data['month'] >= 9) & (data['month'] <= 11), 'season'] = 0 #Spring Sept-Nov\n",
    "data.loc[(data['month'] == 12) | (data['month'] <= 2 ), 'season'] = 1 #Summer Dec-Feb\n",
    "data.loc[(data['month'] >= 3) & (data['month'] <= 5), 'season'] = 2 #Fall March-May\n",
    "data.loc[(data['month'] >= 6) & (data['month'] <= 8), 'season'] = 3 # Winter June-Aug"
   ]
  },
  {
   "cell_type": "code",
   "execution_count": null,
   "metadata": {
    "colab": {
     "base_uri": "https://localhost:8080/",
     "height": 1000
    },
    "id": "aWGRWxwcCfH1",
    "outputId": "1ee7b000-bd14-4e15-8e38-1d67f2477932"
   },
   "outputs": [],
   "source": [
    "correlation = data.corr()\n",
    "plt.figure(figsize =(30, 20))\n",
    "sns.heatmap(correlation, annot=True)"
   ]
  },
  {
   "cell_type": "code",
   "execution_count": null,
   "metadata": {
    "colab": {
     "base_uri": "https://localhost:8080/"
    },
    "id": "3qBy_k5zW9JH",
    "outputId": "c9e88bdd-56da-4fa5-bd15-5a4de1409e3a"
   },
   "outputs": [],
   "source": [
    "filename = 'post_EDA.csv'\n",
    "\n",
    "data.to_csv(filename,index=False)\n",
    "\n",
    "print('Saved file: ' + filename)"
   ]
  },
  {
   "cell_type": "code",
   "execution_count": null,
   "metadata": {
    "id": "wu43CGW1comt"
   },
   "outputs": [],
   "source": [
    "y = data['severity']\n",
    "X = data.drop('severity', axis = 1)"
   ]
  },
  {
   "cell_type": "code",
   "execution_count": null,
   "metadata": {
    "id": "hzVPE2U1ciQC"
   },
   "outputs": [],
   "source": [
    "X_train, X_temp, y_train, y_temp = train_test_split(X, y, random_state = 123, test_size = .3, stratify = y)"
   ]
  },
  {
   "cell_type": "code",
   "execution_count": null,
   "metadata": {
    "id": "oSuPMHj5c3lN"
   },
   "outputs": [],
   "source": [
    "X_val, X_test, y_val, y_test = train_test_split(X_temp, y_temp, random_state = 123, test_size = .5, stratify = y_temp)"
   ]
  },
  {
   "cell_type": "code",
   "execution_count": null,
   "metadata": {
    "id": "hnwb017Hc26R"
   },
   "outputs": [],
   "source": [
    "kmeans = KMeans(n_clusters = 3)"
   ]
  },
  {
   "cell_type": "code",
   "execution_count": null,
   "metadata": {
    "colab": {
     "base_uri": "https://localhost:8080/"
    },
    "id": "WGMRgd7UdCV1",
    "outputId": "a03a48d5-f763-47bb-fb55-7581c753fed8"
   },
   "outputs": [],
   "source": [
    "kmeans.fit(X_train, y_train)"
   ]
  },
  {
   "cell_type": "code",
   "execution_count": null,
   "metadata": {
    "id": "pIunzTpxdOpl"
   },
   "outputs": [],
   "source": [
    "y_pred = kmeans.predict(X_temp)"
   ]
  },
  {
   "cell_type": "code",
   "execution_count": null,
   "metadata": {
    "colab": {
     "base_uri": "https://localhost:8080/"
    },
    "id": "qIwvXcTIdVM0",
    "outputId": "03daf314-c377-4832-b9fe-c8fbf13aff46"
   },
   "outputs": [],
   "source": [
    "print(classification_report(y_temp, y_pred))"
   ]
  }
 ],
 "metadata": {
  "colab": {
   "collapsed_sections": [],
   "provenance": []
  },
  "kernelspec": {
   "display_name": "Python 3 (ipykernel)",
   "language": "python",
   "name": "python3"
  },
  "language_info": {
   "codemirror_mode": {
    "name": "ipython",
    "version": 3
   },
   "file_extension": ".py",
   "mimetype": "text/x-python",
   "name": "python",
   "nbconvert_exporter": "python",
   "pygments_lexer": "ipython3",
   "version": "3.9.7"
  }
 },
 "nbformat": 4,
 "nbformat_minor": 1
}
